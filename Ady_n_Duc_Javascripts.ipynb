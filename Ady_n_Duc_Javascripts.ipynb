{
  "nbformat": 4,
  "nbformat_minor": 0,
  "metadata": {
    "colab": {
      "name": "Ady-n-Duc-Javascripts.ipynb",
      "provenance": [],
      "collapsed_sections": [
        "yqH1j4FgMk6E"
      ],
      "machine_shape": "hm",
      "include_colab_link": true
    },
    "accelerator": "GPU",
    "kernelspec": {
      "name": "javascript",
      "display_name": "Javascript"
    }
  },
  "cells": [
    {
      "cell_type": "markdown",
      "metadata": {
        "id": "view-in-github",
        "colab_type": "text"
      },
      "source": [
        "<a href=\"https://colab.research.google.com/github/duchaba/Norwegian_Blue_Parrot_k2fa_AI/blob/master/Ady_n_Duc_Javascripts.ipynb\" target=\"_parent\"><img src=\"https://colab.research.google.com/assets/colab-badge.svg\" alt=\"Open In Colab\"/></a>"
      ]
    },
    {
      "cell_type": "markdown",
      "metadata": {
        "id": "FkoA1UhPHi56"
      },
      "source": [
        "- When I first learn to use the Jupyter notebook, I thought it was exclusively for Python, but I was wrong. There is an open-source community that uses Jupyter’s notebook for every conceivable language. \n",
        "\n",
        "- I primarily use a Jupyter’s notebook for teaching and exploring. Afterward I refactor the code into a reusable library. I use Atom’s IDE.\n",
        "\n",
        "- Enough talk, let’s hack!\n"
      ]
    },
    {
      "cell_type": "markdown",
      "metadata": {
        "id": "Jp9XM7s2YOMu"
      },
      "source": [
        "> <h2><center>Ady, Welcome to Jupyter Notebook chating session. If you have not done so, save the notebook to your Goggle Drive, cloud server or local drive.</center></h2>"
      ]
    },
    {
      "cell_type": "markdown",
      "metadata": {
        "id": "sqxu6s_5Hxi0"
      },
      "source": [
        "# 2.0 SetUp "
      ]
    },
    {
      "cell_type": "markdown",
      "metadata": {
        "id": "qhXzNKjCLZcm"
      },
      "source": [
        "- There are dozens of cloud services that enable you to use Jupyter notebook without any setup. \n",
        "\n",
        "- Here is the link to the best from a Google quick search. https://www.dataschool.io/cloud-services-for-jupyter-notebook/\n",
        "\n",
        "- I choose “Google Colab” because it is “free”, reliable, fast, scalable, and did I mention “free?”\n",
        "\n",
        "- The Jupyter works the same in different cloud services and even on your own desktop because essentially, it is a “web page.” https://jupyter.org/\n",
        "\n",
        "1. Run the first cell to set up \"Javascripts\" mode. The default is Python mode.\n",
        "\n",
        "1. The \"ijavascript\" is a NodeJS session. \n",
        "\n",
        "2. Do \"F5\" to reload the page, so the it default to Javascripts."
      ]
    },
    {
      "cell_type": "code",
      "metadata": {
        "id": "ZVkF16NwcMsZ",
        "outputId": "cf9438fb-a477-4d7e-d630-aba8763a35fc",
        "colab": {
          "base_uri": "https://localhost:8080/",
          "height": 347
        }
      },
      "source": [
        "!npm install -g --unsafe-perm ijavascript\n",
        "!ijsinstall --install=global\n",
        "!jupyter-kernelspec list"
      ],
      "execution_count": null,
      "outputs": [
        {
          "output_type": "stream",
          "text": [
            "\u001b[K\u001b[?25h/tools/node/bin/ijs -> /tools/node/lib/node_modules/ijavascript/bin/ijavascript.js\n",
            "/tools/node/bin/ijsinstall -> /tools/node/lib/node_modules/ijavascript/bin/ijsinstall.js\n",
            "/tools/node/bin/ijsconsole -> /tools/node/lib/node_modules/ijavascript/bin/ijsconsole.js\n",
            "/tools/node/bin/ijskernel -> /tools/node/lib/node_modules/ijavascript/lib/kernel.js\n",
            "/tools/node/bin/ijsnotebook -> /tools/node/lib/node_modules/ijavascript/bin/ijsnotebook.js\n",
            "\n",
            "> zeromq@5.2.0 install /tools/node/lib/node_modules/ijavascript/node_modules/zeromq\n",
            "> node scripts/prebuild-install.js || (node scripts/preinstall.js && node-gyp rebuild)\n",
            "\n",
            "\n",
            "\n",
            "+ ijavascript@5.2.0\n",
            "added 66 packages from 65 contributors in 6.606s\n",
            "Available kernels:\n",
            "  ir            /usr/local/share/jupyter/kernels/ir\n",
            "  javascript    /usr/local/share/jupyter/kernels/javascript\n",
            "  python2       /usr/local/share/jupyter/kernels/python2\n",
            "  python3       /usr/local/share/jupyter/kernels/python3\n",
            "  swift         /usr/local/share/jupyter/kernels/swift\n"
          ],
          "name": "stdout"
        }
      ]
    },
    {
      "cell_type": "markdown",
      "metadata": {
        "id": "bjNF3VjPjJHV"
      },
      "source": [
        "><h2>Reload Page (F5), <u>Now please!</u></h2>"
      ]
    },
    {
      "cell_type": "code",
      "metadata": {
        "id": "xerIkpZOT617",
        "outputId": "78952f71-00fd-42e1-aee5-936efaa98e78",
        "colab": {
          "base_uri": "https://localhost:8080/",
          "height": 35
        }
      },
      "source": [
        "// Double checking it\n",
        "console.log(\"Hello to Javascripts World, Ady\");"
      ],
      "execution_count": null,
      "outputs": [
        {
          "output_type": "stream",
          "text": [
            "Hello to Javascripts World, Ady\n"
          ],
          "name": "stdout"
        }
      ]
    },
    {
      "cell_type": "markdown",
      "metadata": {
        "id": "viVOz0g6atdi"
      },
      "source": [
        "- Stop if the \"console.log()\" does NOT work. Do the setup again or ask for help."
      ]
    },
    {
      "cell_type": "markdown",
      "metadata": {
        "id": "p0bxc8ngbK2s"
      },
      "source": [
        ""
      ]
    },
    {
      "cell_type": "markdown",
      "metadata": {
        "id": "NpTgOnqaMFyt"
      },
      "source": [
        "# 3.0 Class or Tutorial or Hacking Begin."
      ]
    },
    {
      "cell_type": "markdown",
      "metadata": {
        "id": "3Tqa8G7xcBE3"
      },
      "source": [
        "- As a good little programmer, we start by creating an object or class.\n",
        "\n",
        "- As you follow along, it is OK to hack it by adding your \"code cells\" or \"text cells.\""
      ]
    },
    {
      "cell_type": "markdown",
      "metadata": {
        "id": "tUy75MDllbXM"
      },
      "source": [
        "## 3.1 Create Class or Object"
      ]
    },
    {
      "cell_type": "code",
      "metadata": {
        "id": "3v45AawiUc_C"
      },
      "source": [
        "class Person {\n",
        "  constructor(name, age) {\n",
        "    this.name = name;\n",
        "    this.age = age;\n",
        "  }\n",
        "  //\n",
        "  sayHello() {\n",
        "    console.log(\"Hello from \" + this.name)\n",
        "  }\n",
        "}"
      ],
      "execution_count": null,
      "outputs": []
    },
    {
      "cell_type": "code",
      "metadata": {
        "id": "iUxgF7FmUdBj"
      },
      "source": [
        "var sammy = new Person(\"Sammy\", 4);"
      ],
      "execution_count": null,
      "outputs": []
    },
    {
      "cell_type": "code",
      "metadata": {
        "id": "iOOzPu4FUdOv",
        "outputId": "ff5f2636-926f-48ac-d9c4-9fcbc7c70462",
        "colab": {
          "base_uri": "https://localhost:8080/",
          "height": 35
        }
      },
      "source": [
        "sammy.age;"
      ],
      "execution_count": null,
      "outputs": [
        {
          "output_type": "execute_result",
          "data": {
            "text/plain": [
              "4"
            ]
          },
          "metadata": {
            "tags": []
          },
          "execution_count": 8
        }
      ]
    },
    {
      "cell_type": "code",
      "metadata": {
        "id": "AtzvPLKHdRg6",
        "outputId": "882ced31-94e5-48a9-9966-261553a7acdb",
        "colab": {
          "base_uri": "https://localhost:8080/",
          "height": 35
        }
      },
      "source": [
        "sammy.sayHello()"
      ],
      "execution_count": null,
      "outputs": [
        {
          "output_type": "stream",
          "text": [
            "Hello from Sammy\n"
          ],
          "name": "stdout"
        }
      ]
    },
    {
      "cell_type": "markdown",
      "metadata": {
        "id": "gbVcMWe_do4y"
      },
      "source": [
        "1. Add new method to Person by using \"Interface\". \n",
        "\n",
        "1. Why use this method and not add new method during the class definition?\n",
        "\n",
        "2. Anyone?"
      ]
    },
    {
      "cell_type": "code",
      "metadata": {
        "id": "hqWnQbqHeoQ6",
        "outputId": "74053fca-86bf-4eb9-b251-07e46711920d",
        "colab": {
          "base_uri": "https://localhost:8080/",
          "height": 35
        }
      },
      "source": [
        "// add new method to Person (and sammy)\n",
        "Person.prototype.sayGoodBye = function () {\n",
        "  console.log(\"Good night from \" + this.name + \", I am \" + this.age + \" years old.\")\n",
        "};"
      ],
      "execution_count": null,
      "outputs": [
        {
          "output_type": "execute_result",
          "data": {
            "text/plain": [
              "[Function]"
            ]
          },
          "metadata": {
            "tags": []
          },
          "execution_count": 12
        }
      ]
    },
    {
      "cell_type": "code",
      "metadata": {
        "id": "oUgkfFY-f_SH",
        "outputId": "174879b9-4864-45e7-f265-caf041781edf",
        "colab": {
          "base_uri": "https://localhost:8080/",
          "height": 35
        }
      },
      "source": [
        "// test it\n",
        "sammy.sayGoodBye();"
      ],
      "execution_count": null,
      "outputs": [
        {
          "output_type": "stream",
          "text": [
            "Good night from Sammy, I am 4 years old.\n"
          ],
          "name": "stdout"
        }
      ]
    },
    {
      "cell_type": "markdown",
      "metadata": {
        "id": "n4Ha04SghAoP"
      },
      "source": [
        "- For the fun of it, extend or subclass \"Person\" to create \"Student.\""
      ]
    },
    {
      "cell_type": "code",
      "metadata": {
        "id": "z5eBKLIPUdR1"
      },
      "source": [
        "class Student extends Person {\n",
        "  constructor(name, age) {\n",
        "    super(name, age);\n",
        "    this.creditCard = \"1234-5678-1000\";\n",
        "  }\n",
        "  // payment method\n",
        "  pay(money) {\n",
        "    console.log(this.name + \" pays $\" + money + \" using credit card number: \" + this.creditCard);\n",
        "  }\n",
        "}"
      ],
      "execution_count": null,
      "outputs": []
    },
    {
      "cell_type": "code",
      "metadata": {
        "id": "B_2QT6gNYOth"
      },
      "source": [
        "var jenny = new Student(\"Jenny\", 21);"
      ],
      "execution_count": null,
      "outputs": []
    },
    {
      "cell_type": "code",
      "metadata": {
        "id": "bUTUO1SzYZXs",
        "outputId": "0b0c7d1f-508a-4b73-b0a6-dcab974869d3",
        "colab": {
          "base_uri": "https://localhost:8080/",
          "height": 35
        }
      },
      "source": [
        "jenny.pay(2500.00);"
      ],
      "execution_count": null,
      "outputs": [
        {
          "output_type": "stream",
          "text": [
            "Jenny pays $2500 using credit card number: 1234-5678-1000\n"
          ],
          "name": "stdout"
        }
      ]
    },
    {
      "cell_type": "code",
      "metadata": {
        "id": "RmXBgxWDzeLI",
        "outputId": "6231977d-9373-4047-a594-9b9a20984330",
        "colab": {
          "base_uri": "https://localhost:8080/",
          "height": 35
        }
      },
      "source": [
        "jenny.homeAddress = \"12 Snyder Way\";"
      ],
      "execution_count": null,
      "outputs": [
        {
          "output_type": "execute_result",
          "data": {
            "text/plain": [
              "'12 Snyder Way'"
            ]
          },
          "metadata": {
            "tags": []
          },
          "execution_count": 119
        }
      ]
    },
    {
      "cell_type": "code",
      "metadata": {
        "id": "5eDxV-IOzuBi"
      },
      "source": [
        ""
      ],
      "execution_count": null,
      "outputs": []
    },
    {
      "cell_type": "code",
      "metadata": {
        "id": "R3m-ocY2zuEn"
      },
      "source": [
        ""
      ],
      "execution_count": null,
      "outputs": []
    },
    {
      "cell_type": "markdown",
      "metadata": {
        "id": "Scuv3u_2jZfd"
      },
      "source": [
        "## 3.2 Student Homework or Exam "
      ]
    },
    {
      "cell_type": "markdown",
      "metadata": {
        "id": "1VXXa9nGk4ZI"
      },
      "source": [
        "1. Ady, do your magic."
      ]
    },
    {
      "cell_type": "code",
      "metadata": {
        "id": "I1WqZ54BksLN",
        "outputId": "86d5a40f-0f74-49fe-9550-bd780ab662e3",
        "colab": {
          "base_uri": "https://localhost:8080/",
          "height": 35
        }
      },
      "source": [
        "process.cwd()"
      ],
      "execution_count": null,
      "outputs": [
        {
          "output_type": "execute_result",
          "data": {
            "text/plain": [
              "'/content'"
            ]
          },
          "metadata": {
            "tags": []
          },
          "execution_count": 111
        }
      ]
    },
    {
      "cell_type": "code",
      "metadata": {
        "id": "fVhv2sMCypM7"
      },
      "source": [
        ""
      ],
      "execution_count": null,
      "outputs": []
    },
    {
      "cell_type": "code",
      "metadata": {
        "id": "NeKHrnYb0c_b"
      },
      "source": [
        ""
      ],
      "execution_count": null,
      "outputs": []
    },
    {
      "cell_type": "code",
      "metadata": {
        "id": "v7YpIYGx0dCc"
      },
      "source": [
        ""
      ],
      "execution_count": null,
      "outputs": []
    },
    {
      "cell_type": "markdown",
      "metadata": {
        "id": "LLcR_L6dvent"
      },
      "source": [
        "- Fun with nodeJS HTML output "
      ]
    },
    {
      "cell_type": "code",
      "metadata": {
        "id": "Th9oo9cSksUt",
        "outputId": "d0dbc426-4b70-4e38-b85f-432786cc0847",
        "colab": {
          "base_uri": "https://localhost:8080/",
          "height": 67
        }
      },
      "source": [
        "// use the ijavascript magics key word\n",
        "$$.html(\"<div style='background-color:pink;width:100px;height:50px'></div>\");"
      ],
      "execution_count": null,
      "outputs": [
        {
          "output_type": "execute_result",
          "data": {
            "text/html": [
              "<div style='background-color:pink;width:100px;height:50px'></div>"
            ]
          },
          "metadata": {
            "tags": []
          },
          "execution_count": 131
        }
      ]
    },
    {
      "cell_type": "code",
      "metadata": {
        "id": "JvAtYWc-v-U2",
        "outputId": "294ad45f-e3af-4ad2-caac-2654836f0f81",
        "colab": {
          "base_uri": "https://localhost:8080/",
          "height": 35
        }
      },
      "source": [
        "Student.prototype.drawButton = function (label) {\n",
        "  var style = (\n",
        "    \"display:inline-block;\" +\n",
        "    \"padding:0.5rem 1rem;\" +\n",
        "    \"background:#20c997;\" +\n",
        "    \"border: 1px solid #8992a0;\" +\n",
        "    \"border-radius:3px;\" +\n",
        "    \"color: #f0f0f0;\"\n",
        "  );\n",
        "  return (\n",
        "    \"<div style='\" + style + \"'>\" + label + \"</div>\"\n",
        "  );\n",
        "};"
      ],
      "execution_count": null,
      "outputs": [
        {
          "output_type": "execute_result",
          "data": {
            "text/plain": [
              "[Function]"
            ]
          },
          "metadata": {
            "tags": []
          },
          "execution_count": 142
        }
      ]
    },
    {
      "cell_type": "code",
      "metadata": {
        "id": "x1y8DnWQ3AZf",
        "outputId": "87f20ec9-5c98-4118-b34a-a42d7543c590",
        "colab": {
          "base_uri": "https://localhost:8080/",
          "height": 53
        }
      },
      "source": [
        "$$.html(jenny.drawButton(\"Happy days are here.\"));"
      ],
      "execution_count": null,
      "outputs": [
        {
          "output_type": "execute_result",
          "data": {
            "text/html": [
              "<div style='display:inline-block;padding:0.5rem 1rem;background:#20c997;border: 1px solid #8992a0;border-radius:3px;'>Happy days are here.</div>"
            ]
          },
          "metadata": {
            "tags": []
          },
          "execution_count": 147
        }
      ]
    },
    {
      "cell_type": "markdown",
      "metadata": {
        "id": "9BTPskUk4ovC"
      },
      "source": [
        "- More fun with NodeJS and image.\n"
      ]
    },
    {
      "cell_type": "code",
      "metadata": {
        "id": "b5Me8arz4jp_",
        "outputId": "71366855-c0bb-44fc-dce3-523c8d174ac3",
        "colab": {
          "base_uri": "https://localhost:8080/",
          "height": 35
        }
      },
      "source": [
        "Student.prototype.drawImage = function (jpgImageFileName) {\n",
        "  img = require(\"fs\").readFileSync(jpgImageFileName).toString(\"base64\");\n",
        "  return img;\n",
        "};"
      ],
      "execution_count": null,
      "outputs": [
        {
          "output_type": "execute_result",
          "data": {
            "text/plain": [
              "[Function]"
            ]
          },
          "metadata": {
            "tags": []
          },
          "execution_count": 162
        }
      ]
    },
    {
      "cell_type": "markdown",
      "metadata": {
        "id": "CPuk6OUF5ker"
      },
      "source": [
        "- Upload your image before testing it."
      ]
    },
    {
      "cell_type": "code",
      "metadata": {
        "id": "M4hA3_Al4jto",
        "outputId": "62ef6413-5556-4f4d-eb55-a535dbf40307",
        "colab": {
          "base_uri": "https://localhost:8080/",
          "height": 550
        }
      },
      "source": [
        "// test it\n",
        "$$.jpeg(jenny.drawImage(\"win.jpg\"));"
      ],
      "execution_count": null,
      "outputs": [
        {
          "output_type": "execute_result",
          "data": {
            "image/jpeg": "[encoded data removed]"
          },
          "metadata": {
            "tags": []
          },
          "execution_count": 164
        }
      ]
    },
    {
      "cell_type": "code",
      "metadata": {
        "id": "VAWsU1HC6JJP"
      },
      "source": [
        ""
      ],
      "execution_count": null,
      "outputs": []
    },
    {
      "cell_type": "code",
      "metadata": {
        "id": "qgy0GXkT6JNa"
      },
      "source": [
        ""
      ],
      "execution_count": null,
      "outputs": []
    },
    {
      "cell_type": "markdown",
      "metadata": {
        "id": "6fUatrrSlLau"
      },
      "source": [
        "## 3.3 Back to Our Journey, Binary Search."
      ]
    },
    {
      "cell_type": "code",
      "metadata": {
        "id": "BBKZoM3eksYY"
      },
      "source": [
        ""
      ],
      "execution_count": null,
      "outputs": []
    },
    {
      "cell_type": "code",
      "metadata": {
        "id": "jwkAWu2Skse-"
      },
      "source": [
        ""
      ],
      "execution_count": null,
      "outputs": []
    },
    {
      "cell_type": "markdown",
      "metadata": {
        "id": "Rj-2PV54qoCg"
      },
      "source": [
        "## 3.4 Student Second Homework or Exam"
      ]
    },
    {
      "cell_type": "markdown",
      "metadata": {
        "id": "W1f3SfbDvQCN"
      },
      "source": [
        ""
      ]
    },
    {
      "cell_type": "code",
      "metadata": {
        "id": "ni9efSa7qxoK"
      },
      "source": [
        ""
      ],
      "execution_count": null,
      "outputs": []
    },
    {
      "cell_type": "markdown",
      "metadata": {
        "id": "esOXlc2dL3vT"
      },
      "source": [
        "# 4.0 Hack your notebook page"
      ]
    },
    {
      "cell_type": "markdown",
      "metadata": {
        "id": "Mv7CO80iVpSq"
      },
      "source": [
        "- There are many addons to Jupyter Notebook, but unless you host your Jupyter Notebook or use the cloud server that allows you to use them, you can’t use it. Unfortunately, my choice of Google Collab does not support it. https://jupyter-contrib-nbextensions.readthedocs.io/en/latest/\n",
        "\n",
        "- However, strip away all the fancy terminologies, Jupyter Notebook is a “web page.” So, we hacked it. \n",
        "\n",
        "- Open the webpage “[dev] inspect” via right-click or “cntr-shift-i,” and hack it. \n"
      ]
    },
    {
      "cell_type": "code",
      "metadata": {
        "id": "zoNb_ghvZnI9"
      },
      "source": [
        "// # OPTIONAL\n",
        "// # For Google Colab, (1) Open the \"concole\", e.g. right-click and inspect, (2) Copy the below scripts (from line #10 to #17) and run it.\n",
        "// #\n",
        "// # If you know how to hack Google Colab Jupyter notebook and run \"javascripts\" as-is below, \n",
        "// #i.e., without the need for opening up the console, please share it with me.\n",
        "// #\n",
        "// # The Javascript is to highlight the code cells' input and output and the code-cells you have executed.\n",
        "// #\n",
        "// %%js\n",
        "var head = document.head || document.getElementsByTagName(\"head\")[0];\n",
        "var style = document.createElement(\"style\");\n",
        "var css = \".inputarea.code{border-left: 4px solid #20c997;}.cell.focused .inputarea.code{border-left: 4px solid #d63384;}.cell .output{border-left: 4px solid #ffc107;}\";\n",
        "css = css + \":root { --colab-fresh-execution-count-color: #d63384;}\";\n",
        "css = css + \".markdown blockquote {border-left: 10px solid #fd7e14 !important;border-radius: 10px 0 0 10px;padding: 1em 1em 1em 1em;border-bottom: 1px solid #343845}\"\n",
        "css = css + \" h1,h2,h3,h4,h5 {font-family:serif !important;}\"\n",
        "css = css + \"h1{color:#e83e8c !important;;} h2{color:#20c997 !important;;} h3{color:#fd7e14 !important;;} h4{color:#6610f2 !important;}\"\n",
        "head.appendChild(style);\n",
        "style.type = \"text/css\";\n",
        "style.appendChild(document.createTextNode(css));"
      ],
      "execution_count": null,
      "outputs": []
    },
    {
      "cell_type": "code",
      "metadata": {
        "id": "W_W4UuKyL1-Z"
      },
      "source": [
        ""
      ],
      "execution_count": null,
      "outputs": []
    },
    {
      "cell_type": "markdown",
      "metadata": {
        "id": "numImKbWNGEF"
      },
      "source": [
        "## 4.1 Changing Theme and \"Magic\" Commands"
      ]
    },
    {
      "cell_type": "markdown",
      "metadata": {
        "id": "2ZXnTReebdfW"
      },
      "source": [
        "1. Change the \"theme\" by click on \"Tools -> Settings -> Select dark theme.\""
      ]
    },
    {
      "cell_type": "code",
      "metadata": {
        "id": "loUO0c19L2Bv"
      },
      "source": [
        ""
      ],
      "execution_count": null,
      "outputs": []
    },
    {
      "cell_type": "markdown",
      "metadata": {
        "id": "ngy484C5MSJf"
      },
      "source": [
        "# 5.0 A Few Good Reference Notebooks and Websites"
      ]
    },
    {
      "cell_type": "markdown",
      "metadata": {
        "id": "wQ5SbFkkOBoi"
      },
      "source": [
        "1. Google Colab Quick Guide, https://colab.research.google.com/notebooks/basic_features_overview.ipynb \n",
        "\n",
        "2. Google Colab Form, https://colab.research.google.com/notebooks/forms.ipynb\n",
        "\n",
        "3. Jupyter notebook magic commands, https://nbviewer.jupyter.org/github/ipython/ipython/blob/1.x/examples/notebooks/Cell%20Magics.ipynb\n",
        "\n",
        "---\n",
        "\n",
        "1. Popular Jupyter Notebook Cloud Services, https://www.dataschool.io/cloud-services-for-jupyter-notebook/\n",
        "\n",
        "1. iJavascript notebook home page, http://n-riesco.github.io/ijavascript/\n",
        "\n",
        "1. Jupyter notebook website include \"how to install on your labtop\", https://jupyter.org/index.html\n",
        "\n",
        "2. Unofficial Jupyter Notebook Extensions, https://jupyter-contrib-nbextensions.readthedocs.io/en/latest/\n"
      ]
    },
    {
      "cell_type": "markdown",
      "metadata": {
        "id": "yqH1j4FgMk6E"
      },
      "source": [
        "# 6.0 It is Rum and Coke Time. :-)"
      ]
    },
    {
      "cell_type": "code",
      "metadata": {
        "id": "YqUlhfPcL2fv"
      },
      "source": [
        ""
      ],
      "execution_count": null,
      "outputs": []
    }
  ]
}