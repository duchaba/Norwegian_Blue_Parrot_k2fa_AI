{
  "nbformat": 4,
  "nbformat_minor": 0,
  "metadata": {
    "colab": {
      "name": "adventure game 1",
      "provenance": [],
      "collapsed_sections": [
        "yZS0RzSxtsES",
        "zHax2I-HBucX",
        "Uoq2ch-jI6US",
        "-30MsODbKAvQ",
        "aTBrRS6PnTci",
        "fLX9amt_XC40"
      ],
      "toc_visible": true,
      "include_colab_link": true
    },
    "kernelspec": {
      "name": "python3",
      "display_name": "Python 3"
    },
    "language_info": {
      "name": "python"
    }
  },
  "cells": [
    {
      "cell_type": "markdown",
      "metadata": {
        "id": "view-in-github",
        "colab_type": "text"
      },
      "source": [
        "<a href=\"https://colab.research.google.com/github/duchaba/Norwegian_Blue_Parrot_k2fa_AI/blob/master/adventure_game_1.ipynb\" target=\"_parent\"><img src=\"https://colab.research.google.com/assets/colab-badge.svg\" alt=\"Open In Colab\"/></a>"
      ]
    },
    {
      "cell_type": "markdown",
      "metadata": {
        "id": "yZS0RzSxtsES"
      },
      "source": [
        "## 1 - Fox Homework\n",
        "\n",
        "\n",
        "---\n",
        "\n",
        "Hello Fox: \n",
        "\n",
        "My name is Duc Haba, and I am a friend with your dad, Hamish. \n",
        "\n",
        "I have copy your code here. By the way, if you are not familar with Jupyter Notebook, it is the standard tools for Python and AI scientist. It is easy to use and you can run the code directly. There are videos that you can learn on how to use it, but is super easy. The \"Code\" cells are for your python code, and the \"text\" cells are for text. :-)\n",
        "\n",
        "- *If you open this in Github, click on the \"Open in Colab\" (blue button) on the top of this page.*"
      ]
    },
    {
      "cell_type": "code",
      "metadata": {
        "colab": {
          "base_uri": "https://localhost:8080/"
        },
        "id": "Lki82A15tl4I",
        "outputId": "543a19c0-1601-402d-e448-f69c0b0f552e"
      },
      "source": [
        "# add your code\n",
        "# intialize the fighter\n",
        "# -----\n",
        "# Do \"Shift enter\" or click on the left \"run\" icon to execute the cell. You can run it as many time as you want.\n",
        "# -----\n",
        "# power, defense, agility\n",
        "Fighter1Stats = [5,4,1]\n",
        "Fighter2Stats = [5,2,3]\n",
        "Fighter3Stats = [3,4,3]\n",
        "AllFighterStats = [Fighter1Stats, Fighter2Stats, Fighter3Stats]\n",
        "#\n",
        "# test it\n",
        "print(AllFighterStats)"
      ],
      "execution_count": null,
      "outputs": [
        {
          "output_type": "stream",
          "text": [
            "[[5, 4, 1], [5, 2, 3], [3, 4, 3]]\n"
          ],
          "name": "stdout"
        }
      ]
    },
    {
      "cell_type": "code",
      "metadata": {
        "colab": {
          "base_uri": "https://localhost:8080/"
        },
        "id": "Y1cGTQYiyiqT",
        "outputId": "0b0151a7-445a-43c0-820d-e88a1043b9f4"
      },
      "source": [
        "# print first fighter power\n",
        "print (\"The first fighter power is \" , Fighter1Stats[0])\n",
        "print (\"Or you can read it from the AllFigtherStats variable as a two array index (or a Matrix).\\nFighter1 Power is \", AllFighterStats[0][0])"
      ],
      "execution_count": null,
      "outputs": [
        {
          "output_type": "stream",
          "text": [
            "The first fighter power is  5\n",
            "Or you can read it from the AllFigtherStats variable as a two array index (or a Matrix).\n",
            "Fighter1 Power is  5\n"
          ],
          "name": "stdout"
        }
      ]
    },
    {
      "cell_type": "markdown",
      "metadata": {
        "id": "XflYVHZjtsI6"
      },
      "source": [
        "You can put all code in ONE code cell, but I like to break it into smaller segment so that it is easier to debug and test."
      ]
    },
    {
      "cell_type": "code",
      "metadata": {
        "id": "qXkew7lKwwhh"
      },
      "source": [
        "# find equal powers\n",
        "def findEqualPowers(AllFighterStats):\n",
        "  F1power = AllFighterStats[0][0]\n",
        "  F2power = AllFighterStats[1][0]\n",
        "  F3power = AllFighterStats[2][0]\n",
        "  # debug print out the fighters powers. (uncommend the line below)\n",
        "  # print (F1power, F2power, F3power)\n",
        "  if (F1power == F2power) and (F1power == F3power):\n",
        "    val = \"all fighter power are equal\"\n",
        "  elif (F1power == F2power):\n",
        "    if (F3power > F1power):\n",
        "      val = \"fighter 1 and 2 are equal. fighter 3 has higher power\"\n",
        "    else:\n",
        "      val = \"fighter 1 and 2 are equal. fighter 3 has lower power\"\n",
        "  elif (F1power == F3power):\n",
        "    if (F2power > F3power):\n",
        "      val = \"fighter 1 and 3 are equal. fighter 2 has higher power\"\n",
        "    else:\n",
        "      val = \"fighter 1 and 3 are equal. fighter 2 has lower power\"\n",
        "  elif (F2power == F3power):\n",
        "    if (F1power > F3power):\n",
        "      val = \"fighter 2 and 3 are equal. fighter 1 has higher power\"\n",
        "    else:\n",
        "      val = \"fighter 2 and 3 are equal. fighter 1 has lower power\"\n",
        "  else:\n",
        "    val = \"no fighter has equal power\"\n",
        "  return val\n",
        "\n"
      ],
      "execution_count": null,
      "outputs": []
    },
    {
      "cell_type": "code",
      "metadata": {
        "colab": {
          "base_uri": "https://localhost:8080/",
          "height": 35
        },
        "id": "zEcHcbMe0jZy",
        "outputId": "306d12b3-9275-4f96-b30b-1dbb2bdb0ede"
      },
      "source": [
        "# test it\n",
        "findEqualPowers(AllFighterStats)"
      ],
      "execution_count": null,
      "outputs": [
        {
          "output_type": "execute_result",
          "data": {
            "application/vnd.google.colaboratory.intrinsic+json": {
              "type": "string"
            },
            "text/plain": [
              "'no fighter has equal power'"
            ]
          },
          "metadata": {
            "tags": []
          },
          "execution_count": 11
        }
      ]
    },
    {
      "cell_type": "code",
      "metadata": {
        "id": "SKqNLeqYXnj3"
      },
      "source": [
        "Fighter2Stats = [2134782348697,2,3]\n",
        "AllFighterStats = [Fighter1Stats, Fighter2Stats, Fighter3Stats]"
      ],
      "execution_count": null,
      "outputs": []
    },
    {
      "cell_type": "code",
      "metadata": {
        "id": "Boxqf2o9Xz0Z"
      },
      "source": [
        ""
      ],
      "execution_count": null,
      "outputs": []
    },
    {
      "cell_type": "markdown",
      "metadata": {
        "id": "z0XKtIqTwxTg"
      },
      "source": [
        "- *However, when I run this, nothing happens. The script just immediately ends with exit code 0.*\n",
        "  1. The reason is that you didn't index into the fighter array for the power score. (see above) \n",
        "  2. The Python array start with zero and not 1 index. \n",
        "  3. Your \"if\" \"and\" statement contruct is wrong.\n",
        "  4. And as a good practice use only \"one return\" statement\n",
        "\n",
        ">### Happy coding Fox!"
      ]
    },
    {
      "cell_type": "markdown",
      "metadata": {
        "id": "IqpMD-Y_x01e"
      },
      "source": [
        "![fox1.png](data:image/png;base64,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)"
      ]
    },
    {
      "cell_type": "markdown",
      "metadata": {
        "id": "zHax2I-HBucX"
      },
      "source": [
        "## 2 - Inputs"
      ]
    },
    {
      "cell_type": "markdown",
      "metadata": {
        "id": "iaULLtZUCFb-"
      },
      "source": [
        "Fox: \n",
        "\n",
        "Input in Python is pretty easy. It uses the keyword \"input,\" and it returns a string. How to convert them into a number/float or integer or array is not that difficult either."
      ]
    },
    {
      "cell_type": "code",
      "metadata": {
        "id": "lGOguGXTx0RA",
        "colab": {
          "base_uri": "https://localhost:8080/"
        },
        "outputId": "75662c11-d10d-4553-b02d-a41a466c95de"
      },
      "source": [
        "# ask the users to set the power value\n",
        "power = input(\"Enter new power for first fighter: \")"
      ],
      "execution_count": null,
      "outputs": [
        {
          "output_type": "stream",
          "text": [
            "Enter new power for first fighter: 99999999999999999\n"
          ],
          "name": "stdout"
        }
      ]
    },
    {
      "cell_type": "code",
      "metadata": {
        "id": "vJngtWp9wPE9",
        "colab": {
          "base_uri": "https://localhost:8080/",
          "height": 35
        },
        "outputId": "993f9e6d-045a-4bb9-886f-7269922be8e8"
      },
      "source": [
        "# print out the \"string\" value\n",
        "power"
      ],
      "execution_count": null,
      "outputs": [
        {
          "output_type": "execute_result",
          "data": {
            "application/vnd.google.colaboratory.intrinsic+json": {
              "type": "string"
            },
            "text/plain": [
              "'99999999999999999'"
            ]
          },
          "metadata": {
            "tags": []
          },
          "execution_count": 13
        }
      ]
    },
    {
      "cell_type": "code",
      "metadata": {
        "id": "X77y7pYIwPJt",
        "colab": {
          "base_uri": "https://localhost:8080/"
        },
        "outputId": "a2613cb7-8d47-4eaa-d477-9aa9d63e8901"
      },
      "source": [
        "# convert it to an integer using int() function\n",
        "i = int(power)\n",
        "print(\"the power is now an integer: \", i)"
      ],
      "execution_count": null,
      "outputs": [
        {
          "output_type": "stream",
          "text": [
            "the power is now an integer:  99999999999999999\n"
          ],
          "name": "stdout"
        }
      ]
    },
    {
      "cell_type": "markdown",
      "metadata": {
        "id": "Xza1o7yEESEJ"
      },
      "source": [
        "- *Tip: In Jupyter Notebook Python, you can ask what is the function description by using the \"??\", such as int??* "
      ]
    },
    {
      "cell_type": "code",
      "metadata": {
        "id": "sP1zWcBswPT_"
      },
      "source": [
        "# ask what is the description for function int()\n",
        "int??"
      ],
      "execution_count": null,
      "outputs": []
    },
    {
      "cell_type": "markdown",
      "metadata": {
        "id": "ATwUws6uEzUB"
      },
      "source": [
        "- Putting it all together, we have the following code."
      ]
    },
    {
      "cell_type": "code",
      "metadata": {
        "colab": {
          "base_uri": "https://localhost:8080/"
        },
        "id": "8Ucyd2dpEAbB",
        "outputId": "d447a6ee-aeef-4404-fb35-cdffb72d5e0e"
      },
      "source": [
        "# asking fighter1 new power, defense and agility\n",
        "power = input(\"Enter fighter new power: \")\n",
        "defense = input(\"Enter fighter new defense: \")\n",
        "agility = input(\"Enter fighter new agility: \")"
      ],
      "execution_count": null,
      "outputs": [
        {
          "output_type": "stream",
          "text": [
            "Enter fighter new power: 5\n",
            "Enter fighter new defense: 4\n",
            "Enter fighter new agility: 6\n"
          ],
          "name": "stdout"
        }
      ]
    },
    {
      "cell_type": "code",
      "metadata": {
        "colab": {
          "base_uri": "https://localhost:8080/"
        },
        "id": "4RGA_Y_5Fnha",
        "outputId": "1f82a326-032f-48af-a5b4-c2331d33c3f1"
      },
      "source": [
        "# assign the new values to fighter one\n",
        "Fighter1Stats = [int(power), int(defense), int(agility)]\n",
        "print(Fighter1Stats)"
      ],
      "execution_count": null,
      "outputs": [
        {
          "output_type": "stream",
          "text": [
            "[5, 4, 6]\n"
          ],
          "name": "stdout"
        }
      ]
    },
    {
      "cell_type": "code",
      "metadata": {
        "colab": {
          "base_uri": "https://localhost:8080/",
          "height": 35
        },
        "id": "2GBD5fRZGKgl",
        "outputId": "de598f8c-60dd-40a2-bf57-f2f0dfae0c49"
      },
      "source": [
        "# test with findEqualPowers()\n",
        "AllFighterStats = [Fighter1Stats, Fighter2Stats, Fighter3Stats]\n",
        "findEqualPowers(AllFighterStats)"
      ],
      "execution_count": null,
      "outputs": [
        {
          "output_type": "execute_result",
          "data": {
            "application/vnd.google.colaboratory.intrinsic+json": {
              "type": "string"
            },
            "text/plain": [
              "'no fighter has equal power'"
            ]
          },
          "metadata": {
            "tags": []
          },
          "execution_count": 18
        }
      ]
    },
    {
      "cell_type": "code",
      "metadata": {
        "colab": {
          "base_uri": "https://localhost:8080/"
        },
        "id": "lN7seeAIGKWm",
        "outputId": "282b8aed-828b-4a79-c2c7-3dc017114321"
      },
      "source": [
        "# double checked\n",
        "print(AllFighterStats)"
      ],
      "execution_count": null,
      "outputs": [
        {
          "output_type": "stream",
          "text": [
            "[[5, 4, 6], [2134782348697, 2, 3], [3, 4, 3]]\n"
          ],
          "name": "stdout"
        }
      ]
    },
    {
      "cell_type": "markdown",
      "metadata": {
        "id": "6SptwOqWG7El"
      },
      "source": [
        "- Extra Fun widget with Python Jupyter Colab Form notebook.\n",
        "- More information at https://colab.research.google.com/notebooks/forms.ipynb"
      ]
    },
    {
      "cell_type": "code",
      "metadata": {
        "id": "5Y0KlQ1JGuTL"
      },
      "source": [
        "#@title Fighter one:\n",
        "\n",
        "power = 3 #@param {type:\"slider\", min:0, max:5, step:1}\n",
        "defense = 3 #@param {type:\"slider\", min:0, max:5, step:1}\n",
        "agility = 4 #@param {type:\"slider\", min:0, max:5, step:1}"
      ],
      "execution_count": null,
      "outputs": []
    },
    {
      "cell_type": "code",
      "metadata": {
        "colab": {
          "base_uri": "https://localhost:8080/",
          "height": 35
        },
        "id": "qdDEr_KQGuWt",
        "outputId": "4448b49e-5b40-4ea7-edd6-b2be2e7fc27f"
      },
      "source": [
        "# test it\n",
        "Fighter1Stats = [int(power), int(defense), int(agility)]\n",
        "AllFighterStats = [Fighter1Stats, Fighter2Stats, Fighter3Stats]\n",
        "findEqualPowers(AllFighterStats)"
      ],
      "execution_count": null,
      "outputs": [
        {
          "output_type": "execute_result",
          "data": {
            "application/vnd.google.colaboratory.intrinsic+json": {
              "type": "string"
            },
            "text/plain": [
              "'fighter 1 and 3 are equal. fighter 2 has higher power'"
            ]
          },
          "metadata": {
            "tags": []
          },
          "execution_count": 25
        }
      ]
    },
    {
      "cell_type": "markdown",
      "metadata": {
        "id": "YtcSnSUjKi2l"
      },
      "source": [
        "### That's it!"
      ]
    },
    {
      "cell_type": "markdown",
      "metadata": {
        "id": "Uoq2ch-jI6US"
      },
      "source": [
        "## 3 - Game Description (from Fox)"
      ]
    },
    {
      "cell_type": "markdown",
      "metadata": {
        "id": "kWKDt_1ld6JT"
      },
      "source": [
        "The game i want to program is mainly about battling enemies in strategic, turn-based combat with special moves."
      ]
    },
    {
      "cell_type": "markdown",
      "metadata": {
        "id": "nlawVcE-hAfr"
      },
      "source": [
        "for the \"battling\", i thought of this sort of system:"
      ]
    },
    {
      "cell_type": "markdown",
      "metadata": {
        "id": "CTbiTHTheCTm"
      },
      "source": [
        "player has 5 stats: power, defense, HP, mobility, and stealth.\n",
        "every stat starts off at level 1, but after a victorious battle, the player can choose to upgrade one of their stats.\n",
        "during a battle, a player can use an offensive, defensive or utility move.\n",
        "upgrading power unlocks new offensive moves,\n",
        "upgrading defense unlocks new defensive moves,\n",
        "upgrading HP grants the player more hitpoints during battle,\n",
        "upgrading mobility unlocks new utility moves,\n",
        "and stealth is a bit different- stealth grants you a very low chance to skip your opponent's turn, but even at maximum level, it would only be about a 10 or 15% chance."
      ]
    },
    {
      "cell_type": "markdown",
      "metadata": {
        "id": "y4yEkRatgsXV"
      },
      "source": [
        "each stat could be upgraded to level 10."
      ]
    },
    {
      "cell_type": "markdown",
      "metadata": {
        "id": "E4EXeo9SfR9c"
      },
      "source": [
        "to determine a fair fight, an enemy-stat generating system i thought of would go something like this:"
      ]
    },
    {
      "cell_type": "markdown",
      "metadata": {
        "id": "3m5kNV-Afzlx"
      },
      "source": [
        "let's say i had stats of 3, 1, 2, 2, 5."
      ]
    },
    {
      "cell_type": "markdown",
      "metadata": {
        "id": "rSGBG1MJgBH8"
      },
      "source": [
        "we would take the list of numbers that is the player's levels for their stats, and randomize their order and give those to the enemy, so for example, the enemy could have stats of 5, 2, 1, 3, 2 or 2, 2, 5, 3, 1."
      ]
    },
    {
      "cell_type": "markdown",
      "metadata": {
        "id": "uFkbK8SdgWfG"
      },
      "source": [
        "for \"boss-fight\" or \"challenge\" battles, we could also increase a few of the numbers."
      ]
    },
    {
      "cell_type": "markdown",
      "metadata": {
        "id": "dvhuIr4Dg0H2"
      },
      "source": [
        ""
      ]
    },
    {
      "cell_type": "markdown",
      "metadata": {
        "id": "e3BCiIMkxotL"
      },
      "source": [
        "### list of moves\n"
      ]
    },
    {
      "cell_type": "markdown",
      "metadata": {
        "id": "Y8WVwn9-xs78"
      },
      "source": [
        "you start with only the first move for each category, but whenever you upgrade power, defense or mobility, you unlock a new random move from their respective categories (offensive, defensive, and utility)"
      ]
    },
    {
      "cell_type": "markdown",
      "metadata": {
        "id": "ItG9OwuHyE2r"
      },
      "source": [
        "Offensive moves"
      ]
    },
    {
      "cell_type": "markdown",
      "metadata": {
        "id": "da9BixHwyHWg"
      },
      "source": [
        "basic punch (starter): your enemy takes 3 damage. (reduces their HP by 3)"
      ]
    },
    {
      "cell_type": "markdown",
      "metadata": {
        "id": "jPmDQel5yPH3"
      },
      "source": [
        "sword slash: your enemy takes 2 damage. 35% chance to have them take 6 damage instead. (make a randint from 1-100, if it's 35 or lower, they take 6 damage. otherwise, they only take 2.)"
      ]
    },
    {
      "cell_type": "markdown",
      "metadata": {
        "id": "CDmlHI0_yrsh"
      },
      "source": [
        "flamethrower: your enemy takes 2 damage. They take 2 damage again at the start of your next turn. (their HP gets lowered by 2, and at the start of player's next turn they lose 2 HP again."
      ]
    },
    {
      "cell_type": "markdown",
      "metadata": {
        "id": "5XT1PefQzDd1"
      },
      "source": [
        "fuse bomb: you and your enemy both take 5 damage. (reduce both players' HP by 5)"
      ]
    },
    {
      "cell_type": "markdown",
      "metadata": {
        "id": "0vNgRj7ezPEq"
      },
      "source": [
        "backstab: in 2 turns, your enemy loses 7 HP. (in 2 turns, reduces their HP by 7.)"
      ]
    },
    {
      "cell_type": "markdown",
      "metadata": {
        "id": "daTzn9K7zoMg"
      },
      "source": [
        "battle ram: your enemy loses 50% of their current HP. (reduces their HP by 50% of their current HP.)"
      ]
    },
    {
      "cell_type": "markdown",
      "metadata": {
        "id": "PjoQ27oX0SK4"
      },
      "source": [
        "chainsaw: your enemy takes damage equal to 35% of their max HP. (reduces their HP by 35% of their max/starting HP)"
      ]
    },
    {
      "cell_type": "markdown",
      "metadata": {
        "id": "ZZP-E5Kz0yBn"
      },
      "source": [
        "inaccurate shot: your enemy takes 1-5 damage at random. (make a randint from 1-5 and they lose that much HP.)"
      ]
    },
    {
      "cell_type": "markdown",
      "metadata": {
        "id": "BNwPjqOI1Xy0"
      },
      "source": [
        "greatsword: your enemy loses 10 HP. 35% chance to accidentally hit yourself instead. (make a randint from 1-100, if it's 35 or lower, the player loses 10 HP. Otherwise, their enemy loses 10 HP.)"
      ]
    },
    {
      "cell_type": "markdown",
      "metadata": {
        "id": "mxt_0WCi3IJg"
      },
      "source": [
        "sniper rifle: your enemy loses 2-4 HP at random. 5% chance to \"headshot\" and deal 25 damage. (make a randint from 1-20. if it's 1, they lose 25 HP. otherwise, make another randint form 2-4 and deal that much damage instead.)"
      ]
    },
    {
      "cell_type": "markdown",
      "metadata": {
        "id": "U1vdGGCC3rEi"
      },
      "source": [
        "Defensive moves"
      ]
    },
    {
      "cell_type": "markdown",
      "metadata": {
        "id": "gsONp3474dQO"
      },
      "source": [
        "for all \"healing effects\" that restore your own HP, you cannot get more HP than your max/starter HP."
      ]
    },
    {
      "cell_type": "markdown",
      "metadata": {
        "id": "lejjjDnO39qG"
      },
      "source": [
        "bandage(starter): you restore 3 HP to yourself. (increases player's current HP by 3, but not over their starter HP)"
      ]
    },
    {
      "cell_type": "markdown",
      "metadata": {
        "id": "Vi6xrMja4m3S"
      },
      "source": [
        "medkit delivery: in 3 turns, restore yourself to your maximum HP. (in 3 turns, player's current HP is set equal to their max/starter HP.)"
      ]
    },
    {
      "cell_type": "markdown",
      "metadata": {
        "id": "SbDu0VLK5JiF"
      },
      "source": [
        "nullification: you cannot take damage during your opponent's next turn You can only use this once per game. (next turn, player's HP is static and cannot be changed. Can only be used once in a game.)"
      ]
    },
    {
      "cell_type": "markdown",
      "metadata": {
        "id": "vIaRtwz16CJS"
      },
      "source": [
        "shield: on your opponent's next 2 turns, all damage they deal to you is reduced by 50%. (on their next 2 turns, their damage output is reduced by 50%.)"
      ]
    },
    {
      "cell_type": "markdown",
      "metadata": {
        "id": "rVdGJx7l67UJ"
      },
      "source": [
        "mysterious potato: you restore 6 HP to yourself. 40% chance to deal 4 damage to yourself instead. (make a randint from 1-100, if it's 40 or lower, deal 4 damage to the player. Otherwise, restore 6 health to them.)"
      ]
    },
    {
      "cell_type": "markdown",
      "metadata": {
        "id": "3FevHph48B81"
      },
      "source": [
        "bad-tasting medicine: you take 5 damage. On the start of your next turn, restore 10 HP to yourself. (player takes 5 damage. on the start of their next turn, they get 10 HP restored to them.)"
      ]
    },
    {
      "cell_type": "markdown",
      "metadata": {
        "id": "s9_08kED8jwf"
      },
      "source": [
        "healing potion: restore 1-6 HP to yourself at random. (make a randint from 1-6 and restore that much health to the player.)"
      ]
    },
    {
      "cell_type": "markdown",
      "metadata": {
        "id": "Y915dsIn9EFV"
      },
      "source": [
        "water bottle: for the rest of the game, you restore 1 HP to yourself at the start of your turn This can only be used once per game. (this game, whenever player's turn starts, restore 1 HP to them. Can't be used more than once in a game.)"
      ]
    },
    {
      "cell_type": "markdown",
      "metadata": {
        "id": "eUCB4bV69HJ_"
      },
      "source": [
        "Pickle juice chug: increase your maximum HP by 5. This does not increase your current HP. (increases player's maximum HP by 5, but not their current HP.)"
      ]
    },
    {
      "cell_type": "markdown",
      "metadata": {
        "id": "zBTb5kOc9HcV"
      },
      "source": [
        "Mustard chug: increase your maximum HP and your current HP by 2. (increases player's max HP and current HP by 2.)"
      ]
    },
    {
      "cell_type": "markdown",
      "metadata": {
        "id": "AlIQB05hAgDR"
      },
      "source": [
        "Utility moves"
      ]
    },
    {
      "cell_type": "markdown",
      "metadata": {
        "id": "KFTfwsN0AiIg"
      },
      "source": [
        "running start(starter): on your next turn, damage dealt to your opponent is doubled. (on your next turn, double damage dealt to your opponent's HP.)"
      ]
    },
    {
      "cell_type": "markdown",
      "metadata": {
        "id": "6tdyEMGGAx5Y"
      },
      "source": [
        "adrenaline: reduce your opponent's stealth by 2, but it can't be less than 1. (reduces their stealth by 2, but if it's at 0 or -1, set it to 1.)"
      ]
    },
    {
      "cell_type": "markdown",
      "metadata": {
        "id": "RcJDq-p5BvqE"
      },
      "source": [
        "time machine: next turn, your HP is set to what it is at right now. Can't be used twice in a row. (on the start of player's next turn, set their HP to what it was at the time of usage. Can't be used two turns in a row.)"
      ]
    },
    {
      "cell_type": "markdown",
      "metadata": {
        "id": "JXOQEakbCowA"
      },
      "source": [
        "mini-truce: both players' maximum HP is increased by 10. (increase both players' max HP by 10, but not their current HP.)"
      ]
    },
    {
      "cell_type": "markdown",
      "metadata": {
        "id": "SnfE-23eDBs1"
      },
      "source": [
        "call for backup: in 10 turns, you automatically win the game. (in 10 turns, player wins the game.)"
      ]
    },
    {
      "cell_type": "markdown",
      "metadata": {
        "id": "DknfPPn6DXI4"
      },
      "source": [
        "trade (offense): lose a random one of your offensive moves to get a new one. This is only in effect for this game. (player loses a random offensive move and gets a random new one, but reverts everything back to normal at the end of the game.)"
      ]
    },
    {
      "cell_type": "markdown",
      "metadata": {
        "id": "rnJn-lXqLvGC"
      },
      "source": [
        "trade (defense): just trade (offense) but for defensive moves instead"
      ]
    },
    {
      "cell_type": "markdown",
      "metadata": {
        "id": "zqTtp-bNL-R3"
      },
      "source": [
        "sacrificial siege: you lose 10 HP, but you deal triple damage next turn. (player loses 10 HP, but next turn, their damage dealt is tripled.)"
      ]
    },
    {
      "cell_type": "markdown",
      "metadata": {
        "id": "yjTDg4FENVnI"
      },
      "source": [
        "There should be 2 more utility moves here, but i haven't come up with them yet."
      ]
    },
    {
      "cell_type": "markdown",
      "metadata": {
        "id": "-30MsODbKAvQ"
      },
      "source": [
        "## 4 - Chapter 1, Play Before We Learn"
      ]
    },
    {
      "cell_type": "markdown",
      "metadata": {
        "id": "LVeyV6o3KWXw"
      },
      "source": [
        " The Goals are as follow.\n",
        "\n",
        " 1. Create two players with a matrix of \"Power and Hitpoints\"\n",
        "\n",
        " 2. Initialize the player with a total of 20 points. You can choose to set power = 10 pts and hitpoints = 10 pts or power = 5 points and hitpoints = 15 pts.\n",
        "\n",
        " 3. Generate a strike by using random number between 1 and 10\n",
        "\n",
        " 4. Check if the \"strike\" is a \"hit\" by using this formular: \n",
        "  - \"power\" + \"strike\" - 17 = damage points\n",
        "  - if \"damage points\" > 0 then other player \"hitpoints\" - \"damage points\"\n",
        "\n",
        "5. You loose if your hitpoints is zero or less then zero.\n",
        "\n",
        "---\n",
        "\n",
        "Resource:\n",
        "\n",
        "\n",
        "1. Good beginer Python book: https://www.amazon.com/Python-Programming-Beginners-Coding-Fundamentals/dp/1646113888/ref=sr_1_2_sspa?dchild=1&keywords=Python+for+Kids&qid=1627798089&sr=8-2-spons&psc=1&spLa=ZW5jcnlwdGVkUXVhbGlmaWVyPUFUVUpQWjEwSVFWR1AmZW5jcnlwdGVkSWQ9QTA1NDA4ODQzSkNIUkZVTkVPRVQ1JmVuY3J5cHRlZEFkSWQ9QTAyMjk1MTQxT05SQVhNODQxNVQ2JndpZGdldE5hbWU9c3BfYXRmJmFjdGlvbj1jbGlja1JlZGlyZWN0JmRvTm90TG9nQ2xpY2s9dHJ1ZQ==\n",
        "\n",
        "2. Optional: Good beginer Python couse: https://www.codecademy.com/learn/learn-python-3\n"
      ]
    },
    {
      "cell_type": "markdown",
      "metadata": {
        "id": "0KMjBduLKWbw"
      },
      "source": [
        "### 4.1 - Create two players with a matrix of \"Power and Hitpoints\"\n",
        "\n",
        "- Initialize the player with a total of 20 points. You can choose to set power = 10 pts and hitpoints = 10 pts or power = 5 points and hitpoints = 15 pts.\n",
        "\n",
        "- *You can use the input or slider if you like.*"
      ]
    },
    {
      "cell_type": "markdown",
      "metadata": {
        "id": "5mP7-xiNnZow"
      },
      "source": [
        "### Below is the input code for setting player stat tables"
      ]
    },
    {
      "cell_type": "code",
      "metadata": {
        "id": "og_5FeZSQDs9",
        "colab": {
          "base_uri": "https://localhost:8080/"
        },
        "outputId": "8c7a35f4-33b3-4428-aa97-ba2cd512c9fd"
      },
      "source": [
        "# Fox: write the code using matrix\n",
        "\n",
        "\n",
        "\n",
        "print(\"player one has 25 points in total, and player two has 30 points in total.\")\n",
        "print(\"both players have 5 stats that you can put your points into.\")\n",
        "print(\"each power point will increase your base damage output by 1,\")\n",
        "print(\"each accuracy point will increase the chance to get a critical hit by 4%,\")\n",
        "print(\"each defense point will increase the chance to reflect your opponent's attack back onto them by 2%,\")\n",
        "print(\"each hitpoints point will increase your base HP by 1,\")\n",
        "print(\"and each stealth point will increase the chance to skip your opponent's turn by 3%\")\n",
        "print(\"\")\n",
        "\n",
        "p1power = input(\"input player 1's power, maximum is 20: \")\n",
        "p1power = int(p1power)\n",
        "if p1power > 20:\n",
        "  print(\"player 1 power is invalid (above maximum), setting to 0\")\n",
        "  p1power = 0\n",
        "\n",
        "p1accuracy = input(\"input player 1's accuracy, maximum is 10: \")\n",
        "p1accuracy = int(p1accuracy)\n",
        "if p1accuracy > 10:\n",
        "  print(\"player 1 accuracy is invalid (above maximum), setting to 0\")\n",
        "  p1accuracy = 0\n",
        "\n",
        "p1defense = input(\"input player 1's defense, maximum is 10: \")\n",
        "p1defense = int(p1defense)\n",
        "if p1defense > 10:\n",
        "  print(\"player 1 defense is invalid (above maximum), setting to 0\")\n",
        "  p1defense = 0\n",
        "\n",
        "p1hitpoints = input(\"input player 1's hitpoints, maximum is 20: \")\n",
        "p1hitpoints = int(p1hitpoints)\n",
        "if p1hitpoints > 20:\n",
        "  print(\"player 1 hitpoints is invalid (above maximum), setting to 0\")\n",
        "  p1hitpoints = 0\n",
        "\n",
        "p1stealth = input(\"input player 1's stealth, maximum is 10: \")\n",
        "p1stealth = int(p1stealth)\n",
        "if p1stealth > 10:\n",
        "  print(\"player 1 stealth is invalid (above maximum), setting to 0\")\n",
        "  p1stealth = 0\n",
        "\n",
        "if p1power+ p1accuracy + p1defense + p1hitpoints + p1stealth > 25:\n",
        "  print(\"ERROR: player 1 has inputted in total greater than 25 points, setting all sats to 5\")\n",
        "  p1power = 5\n",
        "  p1accuracy = 5\n",
        "  p1defense = 5\n",
        "  p1hitpoints = 5\n",
        "  p1stealth = 5\n",
        "\n",
        "\n",
        "fox = [p1power, p1accuracy, p1defense, p1hitpoints, p1stealth]\n",
        "print(\"player 1's stats table is: \" + str(fox))\n",
        "\n",
        "\n",
        "\n",
        "p2power = input(\"input player 2's power, maximum is 20: \")\n",
        "p2power = int(p2power)\n",
        "if p2power > 20:\n",
        "  print(\"player 2 power is invalid (above maximum), setting to 0\")\n",
        "  p2power = 0\n",
        "\n",
        "p2accuracy = input(\"input player 2's accuracy, maximum is 10: \")\n",
        "p2accuracy = int(p2accuracy)\n",
        "if p2accuracy > 10:\n",
        "  print(\"player 2 accuracy is invalid (above maximum), setting to 0\")\n",
        "  p2accuracy = 0\n",
        "\n",
        "p2defense = input(\"input player 2's defense, maximum is 10: \")\n",
        "p2defense = int(p2defense)\n",
        "if p2defense > 10:\n",
        "  print(\"player 2 defense is invalid (above maximum), setting to 0\")\n",
        "  p2defense = 0\n",
        "\n",
        "p2hitpoints = input(\"input player 2's hitpoints, maximum is 20: \")\n",
        "p2hitpoints = int(p2hitpoints)\n",
        "if p2hitpoints > 20:\n",
        "  print(\"player 2 hitpoints is invalid (above maximum), setting to 0\")\n",
        "  p2hitpoints = 0\n",
        "\n",
        "p2stealth = input(\"input player 2's stealth, maximum is 10: \")\n",
        "p2stealth = int(p2stealth)\n",
        "if p2stealth > 10:\n",
        "  print(\"player 2 stealth is invalid (above maximum), setting to 0\")\n",
        "  p2stealth = 0\n",
        "\n",
        "\n",
        "if p2power+ p2accuracy + p2defense + p2hitpoints + p2stealth > 30:\n",
        "  print(\"ERROR: player 2 has inputted in total greater than 30 points, setting all sats to 6\")\n",
        "  p2power = 6\n",
        "  p2accuracy = 6\n",
        "  p2defense = 6\n",
        "  p2hitpoints = 6\n",
        "  p2stealth = 6\n",
        "  \n",
        "\n",
        "\n",
        "  \n",
        "\n",
        "\n",
        "hamish = [p2power, p2accuracy, p2defense, p2hitpoints, p2stealth]\n",
        "print(\"player 2's stats table is: \" + str(hamish))\n",
        "\n",
        "bothplayers = [fox, hamish]\n",
        "bothplayers"
      ],
      "execution_count": null,
      "outputs": [
        {
          "output_type": "stream",
          "text": [
            "player one has 25 points in total, and player two has 30 points in total.\n",
            "both players have 5 stats that you can put your points into.\n",
            "each power point will increase your base damage output by 1,\n",
            "each accuracy point will increase the chance to get a critical hit by 4%,\n",
            "each defense point will increase the chance to reflect your opponent's attack back onto them by 2%,\n",
            "each hitpoints point will increase your base HP by 1,\n",
            "and each stealth point will increase the chance to skip your opponent's turn by 3%\n",
            "\n",
            "input player 1's power, maximum is 20: 10\n",
            "input player 1's accuracy, maximum is 10: 0\n",
            "input player 1's defense, maximum is 10: 10\n",
            "input player 1's hitpoints, maximum is 20: 5\n",
            "input player 1's stealth, maximum is 10: 0\n",
            "player 1's stats table is: [10, 0, 10, 5, 0]\n",
            "input player 2's power, maximum is 20: 20\n",
            "input player 2's accuracy, maximum is 10: 0\n",
            "input player 2's defense, maximum is 10: 0\n",
            "input player 2's hitpoints, maximum is 20: 10\n",
            "input player 2's stealth, maximum is 10: 0\n",
            "player 2's stats table is: [20, 0, 0, 10, 0]\n"
          ],
          "name": "stdout"
        },
        {
          "output_type": "execute_result",
          "data": {
            "text/plain": [
              "[[10, 0, 10, 5, 0], [20, 0, 0, 10, 0]]"
            ]
          },
          "metadata": {
            "tags": []
          },
          "execution_count": 34
        }
      ]
    },
    {
      "cell_type": "markdown",
      "metadata": {
        "id": "RFdmuVW8Qk2k"
      },
      "source": [
        "### 4.2 - Generate a \"strike\" random number between 1 and 10\n",
        "\n",
        "- The document is at https://numpy.org/doc/stable/reference/random/generated/numpy.random.randint.html\n",
        "\n",
        "- or you can search on \"https://stackoverflow.com\" to find the answer. "
      ]
    },
    {
      "cell_type": "code",
      "metadata": {
        "id": "SyJFF4ZTQDwU"
      },
      "source": [
        "# Fox: write the code using the library \"numpy\"\n",
        "import numpy"
      ],
      "execution_count": null,
      "outputs": []
    },
    {
      "cell_type": "code",
      "metadata": {
        "id": "SpsgIDlhQD6w",
        "colab": {
          "base_uri": "https://localhost:8080/"
        },
        "outputId": "4e709ee6-84fe-4795-8076-42a696c1f40a"
      },
      "source": [
        "# use numpy.random.randint function to get the \"strike\"\n",
        "# import numpy # this need to do only once\n",
        "strike = numpy.random.randint(1, 10)\n",
        "strike"
      ],
      "execution_count": null,
      "outputs": [
        {
          "output_type": "execute_result",
          "data": {
            "text/plain": [
              "4"
            ]
          },
          "metadata": {
            "tags": []
          },
          "execution_count": 69
        }
      ]
    },
    {
      "cell_type": "markdown",
      "metadata": {
        "id": "GMh9CGjcKWgp"
      },
      "source": [
        "### 4.3 - Calculate Damage Points\n",
        "\n",
        "1. Check if the \"strike\" is a \"hit\" by using this formular: \n",
        "  - \"power\" + \"strike\" - 17 = damage points\n",
        "  - if \"damage points\" > 0 then other player \"hitpoints\" - \"damage points\""
      ]
    },
    {
      "cell_type": "code",
      "metadata": {
        "id": "1nCnOzdUKjDB",
        "colab": {
          "base_uri": "https://localhost:8080/"
        },
        "outputId": "d47ce730-bba5-470d-cec0-22870e8fa5eb"
      },
      "source": [
        "# Fox write the code:\n",
        "# do it for player one. Fox stikes Hamish\n",
        "# stealth and defense are unused in this example, however accuracy is\n",
        "import numpy # this need to do only once\n",
        "strike = numpy.random.randint(1, 10)\n",
        "\n",
        "PlayerOneP = bothplayers[0][0]\n",
        "PlayerOneA = bothplayers[0][1]\n",
        "PlayerOneD = bothplayers[0][2]\n",
        "PlayerOneH = bothplayers[0][3]\n",
        "PlayerOneS = bothplayers[0][4]\n",
        "\n",
        "PlayerTwoP = bothplayers[1][0]\n",
        "PlayerTwoA = bothplayers[1][1]\n",
        "PlayerTwoD = bothplayers[1][2]\n",
        "PlayerTwoH = bothplayers[1][3]\n",
        "PlayerTwoS = bothplayers[1][4]\n",
        "\n",
        "PlayerOneATrueVal = PlayerOneA * 2\n",
        "PlayerOneDTrueVal = PlayerOneD * 1\n",
        "PlayerOneSTrueVal = PlayerOneS * 1.5\n",
        "\n",
        "PlayerTwoATrueVal = PlayerTwoA * 2\n",
        "PlayerTwoDTrueVal = PlayerTwoD * 1\n",
        "PlayerTwoSTrueVal = PlayerTwoS * 1.5\n",
        "\n",
        "attack = strike + PlayerOneP\n",
        "damagepoints = attack - 12\n",
        "if damagepoints > 0:\n",
        "  critval = numpy.random.randint(1, 100)\n",
        "  if critval <= PlayerOneATrueVal:\n",
        "    print(\"critical hit!!!!\")\n",
        "    damagepoints = damagepoints * 2\n",
        "  PlayerTwoH = PlayerTwoH - damagepoints\n",
        "  print(\"you dealt \" + str(damagepoints) + \" damage. Player 2 are now on \" + str(PlayerTwoH) + \" hitpoints.\")\n",
        "  # Fox: you need to save the value back the matrix. (in chapter 3&4, we will see a better way to do this)\n",
        "  bothplayers[1][1] = PlayerTwoH\n",
        "if damagepoints <= 0:\n",
        "  print(\"miss! attack is \", attack, \", and damage point is \", damagepoints)\n",
        "#\n",
        "# check if player 2 is dead\n",
        "if (PlayerTwoH <= 0):\n",
        "  print(\"player 2 is dead, and hitpoint is \", PlayerTwoH)\n",
        "#\n",
        "# Fox: keep runing this cell until player 2 is dead"
      ],
      "execution_count": null,
      "outputs": [
        {
          "output_type": "stream",
          "text": [
            "you dealt 7 damage. Player 2 are now on -3 hitpoints.\n",
            "player 2 is dead, and hitpoint is  -3\n"
          ],
          "name": "stdout"
        }
      ]
    },
    {
      "cell_type": "code",
      "metadata": {
        "id": "IVap7tKmKjGt"
      },
      "source": [
        "# Since the above cell play until player 2 is dead, we need to reinitalize the player stat.\n"
      ],
      "execution_count": null,
      "outputs": []
    },
    {
      "cell_type": "code",
      "metadata": {
        "id": "RhKi2f3SWVe3",
        "colab": {
          "base_uri": "https://localhost:8080/"
        },
        "outputId": "701ba363-8a3e-44a4-c951-e122a9bd1cff"
      },
      "source": [
        "# Fox write the code:\n",
        "# do it for player two. Hamish stikes Fox\n",
        "#\n",
        "# In chapter 3 & 4, we will learn a better method to do this.\n",
        "#\n",
        "# copy from the above with a slight modification to player 2 turn\n",
        "#\n",
        "import numpy # this need to do only once\n",
        "strike = numpy.random.randint(1, 10)\n",
        "\n",
        "PlayerOneP = bothplayers[0][0]\n",
        "PlayerOneA = bothplayers[0][1]\n",
        "PlayerOneD = bothplayers[0][2]\n",
        "PlayerOneH = bothplayers[0][3]\n",
        "PlayerOneS = bothplayers[0][4]\n",
        "\n",
        "PlayerTwoP = bothplayers[1][0]\n",
        "PlayerTwoA = bothplayers[1][1]\n",
        "PlayerTwoD = bothplayers[1][2]\n",
        "PlayerTwoH = bothplayers[1][3]\n",
        "PlayerTwoS = bothplayers[1][4]\n",
        "\n",
        "PlayerOneATrueVal = PlayerOneA * 2\n",
        "PlayerOneDTrueVal = PlayerOneD * 1\n",
        "PlayerOneSTrueVal = PlayerOneS * 1.5\n",
        "\n",
        "PlayerTwoATrueVal = PlayerTwoA * 2\n",
        "PlayerTwoDTrueVal = PlayerTwoD * 1\n",
        "PlayerTwoSTrueVal = PlayerTwoS * 1.5\n",
        "\n",
        "attack = strike + PlayerOneP\n",
        "damagepoints = attack - 12\n",
        "if damagepoints > 0:\n",
        "  critval = numpy.random.randint(1, 100)\n",
        "  if critval <= PlayerTwoATrueVal:\n",
        "    print(\"critical hit!!!!\")\n",
        "    damagepoints = damagepoints * 2\n",
        "  PlayerOneH = PlayerOneH - damagepoints\n",
        "  print(\"you dealt \" + str(damagepoints) + \" damage. Player 1 are now on \" + str(PlayerOneH) + \" hitpoints.\")\n",
        "  # Fox: you need to save the value back the matrix. (in chapter 3&4, we will see a better way to do this)\n",
        "  bothplayers[0][3] = PlayerOneH\n",
        "if damagepoints <= 0:\n",
        "  print(\"miss! attack is \", attack, \", and damage point is \", damagepoints)\n",
        "#\n",
        "# check if player 1 is dead\n",
        "if (PlayerOneH <= 0):\n",
        "  print(\"player 1 is dead, and hitpoint is \", PlayerOneH)\n",
        "#\n",
        "# Fox: keep runing this cell until player 1 is dead"
      ],
      "execution_count": null,
      "outputs": [
        {
          "output_type": "stream",
          "text": [
            "you dealt 1 damage. Player 1 are now on -1 hitpoints.\n",
            "player 2 is dead, and hitpoint is  3\n"
          ],
          "name": "stdout"
        }
      ]
    },
    {
      "cell_type": "code",
      "metadata": {
        "id": "pNsEijT0ASk1"
      },
      "source": [
        "# Since the above cell play until player 1 is dead, we need to reinitalize the player stat.\n",
        "\n",
        "# uhhhhhhhhhhhhhh yeah go to that thing up at the top to redetermine stats"
      ],
      "execution_count": null,
      "outputs": []
    },
    {
      "cell_type": "markdown",
      "metadata": {
        "id": "OtDtHirwWwpP"
      },
      "source": [
        "- If no one loose then run the above code again."
      ]
    },
    {
      "cell_type": "markdown",
      "metadata": {
        "id": "aTBrRS6PnTci"
      },
      "source": [
        "### Below is the main game code"
      ]
    },
    {
      "cell_type": "code",
      "metadata": {
        "colab": {
          "base_uri": "https://localhost:8080/"
        },
        "id": "we3dRZejla27",
        "outputId": "26226f8d-d793-439f-9858-f5a69f83f009"
      },
      "source": [
        "# In chapter 3 and 4 we will learn a better way to do this\n",
        "\n",
        "import numpy\n",
        "\n",
        "PlayerOneP = bothplayers[0][0]\n",
        "PlayerOneA = bothplayers[0][1]\n",
        "PlayerOneD = bothplayers[0][2]\n",
        "PlayerOneH = bothplayers[0][3]\n",
        "PlayerOneS = bothplayers[0][4]\n",
        "\n",
        "PlayerTwoP = bothplayers[1][0]\n",
        "PlayerTwoA = bothplayers[1][1]\n",
        "PlayerTwoD = bothplayers[1][2]\n",
        "PlayerTwoH = bothplayers[1][3]\n",
        "PlayerTwoS = bothplayers[1][4]\n",
        "\n",
        "PlayerOneATrueVal = PlayerOneA * 4\n",
        "\n",
        "PlayerOneDTrueVal = PlayerOneD * 2\n",
        "PlayerOneSTrueVal = PlayerOneS * 3\n",
        "\n",
        "PlayerTwoATrueVal = PlayerTwoA * 4\n",
        "PlayerTwoDTrueVal = PlayerTwoD * 2\n",
        "PlayerTwoSTrueVal = PlayerTwoS * 3\n",
        "\n",
        "# Ready to play!\n",
        "\n",
        "\n",
        "\n",
        "\n",
        "input(\"type anything to begin player 1's attack.\")\n",
        "\n",
        "# do while some one is not dead\n",
        "while (PlayerOneH > 0) and (PlayerTwoH > 0):\n",
        "  #\n",
        "  # player 1 attack first (copy from above cell)\n",
        "  #\n",
        "  P2StealthAttempt = numpy.random.randint(1, 100)\n",
        "  if P2StealthAttempt > PlayerTwoSTrueVal:\n",
        "    print(\"\")\n",
        "    print(\"*Player 1/Fox\")\n",
        "    strike = numpy.random.randint(1, 10)\n",
        "    attack = strike + PlayerOneP\n",
        "    damagepoints = attack - 12\n",
        "    if damagepoints > 0:\n",
        "      critval = numpy.random.randint(1, 100)\n",
        "      if critval <= PlayerOneATrueVal:\n",
        "        print(\"critical hit!!!!\")\n",
        "        damagepoints = damagepoints * 2\n",
        "      reflectval = numpy.random.randint(1, 100)\n",
        "      if reflectval <= PlayerTwoDTrueVal:\n",
        "        print(\"player 2 reflected the attack, making player 1's attack damage themselves!\")\n",
        "        PlayerOneH = PlayerOneH - damagepoints\n",
        "        bothplayers[0][3] = PlayerOneH\n",
        "        print(\"Player 1's hitpoints are now at \" + str(PlayerOneH))\n",
        "        # \"else:\" wasn't working for some reason, so i had to use another if statement rather than an else\n",
        "      if reflectval > PlayerTwoDTrueVal:\n",
        "        PlayerTwoH = PlayerTwoH - damagepoints\n",
        "        print(\"you dealt \" + str(damagepoints) + \" damage. Player 2 are now on \" + str(PlayerTwoH) + \" hitpoints.\")\n",
        "        # Fox: you need to save the value back the matrix. (in chapter 3&4, we will see a better way to do this)\n",
        "        PowerupID = numpy.random.randint(1, 6)\n",
        "        if PowerupID == 1:\n",
        "          print(\"player 1's powerup is power!\")\n",
        "          bothplayers[0][0] = bothplayers[0][0] + 1\n",
        "          print(\"new power stat is \" + str(bothplayers[0][0]))\n",
        "        if PowerupID == 2:\n",
        "          print(\"player 1's powerup is accuracy!\")\n",
        "          bothplayers[0][1] = bothplayers[0][1] + 1\n",
        "          print(\"new accuracy stat is \" + str(bothplayers[0][1]))\n",
        "        if PowerupID == 3:\n",
        "          print(\"player 1's powerup is defense!\")\n",
        "          bothplayers[0][2] = bothplayers[0][2] + 1\n",
        "          print(\"new defense stat is \" + str(bothplayers[0][2]))\n",
        "        if PowerupID == 4:\n",
        "          print(\"player 1's powerup is hitpoints!\")\n",
        "          bothplayers[0][3] = bothplayers[0][3] + 1\n",
        "          print(\"new hitpoints stat is \" + str(bothplayers[0][3]))\n",
        "        if PowerupID == 5:\n",
        "          print(\"player 1's powerup is stealth!\")\n",
        "          bothplayers[0][4] = bothplayers[0][4] + 1\n",
        "          print(\"new stealth stat is \" + str(bothplayers[0][4]))\n",
        "        bothplayers[1][3] = PlayerTwoH\n",
        "    if damagepoints <= 0:\n",
        "      print(\"miss! attack is \", attack, \", and damage point is \", damagepoints)\n",
        "  if P2StealthAttempt <= PlayerTwoSTrueVal:\n",
        "    print(\"player 1's turn got skipped by player 2's stealth!\")\n",
        "  # check if player 2 is dead\n",
        "  if (PlayerTwoH <= 0):\n",
        "    print(\"player 2 is dead, and hitpoint is \", str(PlayerTwoH))\n",
        "  \n",
        "  input(\"type anything to begin player 2's attack.\")\n",
        "  #\n",
        "  # player 2 attack, (copy from above cell)\n",
        "  #\n",
        "  P1StealthAttempt = numpy.random.randint(1, 100)\n",
        "  if P1StealthAttempt > PlayerOneSTrueVal:\n",
        "    print(\"\")\n",
        "    print(\"*Player 2/Hamish\")\n",
        "    strike = numpy.random.randint(1, 10)\n",
        "    attack = strike + PlayerTwoP\n",
        "    damagepoints = attack - 12\n",
        "    if damagepoints > 0:\n",
        "      critval = numpy.random.randint(1, 100)\n",
        "      if critval <= PlayerTwoATrueVal:\n",
        "        print(\"critical hit!!!!\")\n",
        "        damagepoints = damagepoints * 2\n",
        "      reflectval = numpy.random.randint(1, 100)\n",
        "      if reflectval <= PlayerOneDTrueVal:\n",
        "        print(\"player 1 reflected the attack, making player 2's attack damage themselves!\")\n",
        "        PlayerTwoH = PlayerTwoH - damagepoints\n",
        "        bothplayers[1][3] = PlayerTwoH\n",
        "        print(\"Player 2's hitpoints are now at \" + str(PlayerTwoH))\n",
        "        # \"else:\" wasn't working for some reason, so i had to use another if statement rather than an else\n",
        "      if reflectval > PlayerOneDTrueVal:\n",
        "        PlayerOneH = PlayerOneH - damagepoints\n",
        "        print(\"you dealt \" + str(damagepoints) + \" damage. Player 1 are now on \" + str(PlayerOneH) + \" hitpoints.\")\n",
        "        # Fox: you need to save the value back the matrix. (in chapter 3&4, we will see a better way to do this)      \n",
        "        PowerupID = numpy.random.randint(1, 6)\n",
        "        if PowerupID == 1:\n",
        "          print(\"player 2's powerup is power!\")\n",
        "          bothplayers[1][0] = bothplayers[1][0] + 1\n",
        "          print(\"new power stat is \" + str(bothplayers[1][0]))\n",
        "        if PowerupID == 2:\n",
        "          print(\"player 2's powerup is accuracy!\")\n",
        "          bothplayers[1][1] = bothplayers[1][1] + 1\n",
        "          print(\"new accuracy stat is \" + str(bothplayers[1][1]))\n",
        "        if PowerupID == 3:\n",
        "          print(\"player 2's powerup is defense!\")\n",
        "          bothplayers[1][2] = bothplayers[1][2] + 1\n",
        "          print(\"new defense stat is \" + str(bothplayers[1][2]))\n",
        "        if PowerupID == 4:\n",
        "          print(\"player 2's powerup is hitpoints!\")\n",
        "          bothplayers[1][3] = bothplayers[1][3] + 1\n",
        "          print(\"new hitpoints stat is \" + str(bothplayers[1][3]))\n",
        "        if PowerupID == 5:\n",
        "          print(\"player 2's powerup is stealth!\")\n",
        "          bothplayers[1][4] = bothplayers[1][4] + 1\n",
        "          print(\"new stealth stat is \" + str(bothplayers[1][4]))\n",
        "        bothplayers[0][3] = PlayerOneH\n",
        "    if damagepoints <= 0:\n",
        "      print(\"miss! attack is \", attack, \", and damage point is \", damagepoints)\n",
        "  if P1StealthAttempt <= PlayerOneSTrueVal:\n",
        "    print(\"player 2's turn got skipped by player 1's stealth!\")\n",
        "  #\n",
        "  # check if player 1 is dead\n",
        "  if (PlayerOneH <= 0):\n",
        "    print(\"player 1 is dead, and hitpoint is \", PlayerOneH)\n",
        "  \n",
        "  input(\"type anything to begin player 1's attack.\")\n",
        "  #\n",
        "#\n",
        "#\n",
        "print (\"**Game over dude. Player 1/Fox hitpoint is \", PlayerOneH, \", and player 2/Hamish hitpoints is \", PlayerTwoH)\n",
        "#\n",
        "# before you run this cell again, besure to reset the players stat by runing the cell above it"
      ],
      "execution_count": null,
      "outputs": [
        {
          "output_type": "stream",
          "text": [
            "type anything to begin player 1's attack.\n",
            "\n",
            "*Player 1/Fox\n",
            "you dealt 7 damage. Player 2 are now on 3 hitpoints.\n",
            "player 1's powerup is accuracy!\n",
            "new accuracy stat is 1\n",
            "type anything to begin player 2's attack.\n",
            "\n",
            "*Player 2/Hamish\n",
            "you dealt 17 damage. Player 1 are now on -12 hitpoints.\n",
            "player 2's powerup is defense!\n",
            "new defense stat is 1\n",
            "player 1 is dead, and hitpoint is  -12\n",
            "type anything to begin player 1's attack.\n",
            "**Game over dude. Player 1/Fox hitpoint is  -12 , and player 2/Hamish hitpoints is  3\n"
          ],
          "name": "stdout"
        }
      ]
    },
    {
      "cell_type": "markdown",
      "metadata": {
        "id": "YRF_eqDBW9NV"
      },
      "source": [
        "### That's it for Chaper 1."
      ]
    },
    {
      "cell_type": "markdown",
      "metadata": {
        "id": "fLX9amt_XC40"
      },
      "source": [
        "## 5 - Chapter 2, Define the Player Matrix/Stat\n",
        "\n",
        "The goals are as follow.\n",
        "\n",
        "1. Define up to 8 stat per player.\n",
        "\n",
        "2. Define rules for the distribution of initial points.\n",
        "\n",
        "2. Define rules for the \"strike and damage\" taking in account all eight player's stat.\n",
        "\n",
        "3. Define \"power up\" rules. In other words, after a turn a player, and if that player still alive, he/she earns \"power up\" points across all eight stat.\n",
        "\n",
        "3. Rewrite Chaper 1 with these new stats and rules.\n",
        "\n",
        "---\n",
        "\n",
        "1. *Hint: Ask Hamish for help on defining the matrix and rules.*"
      ]
    },
    {
      "cell_type": "code",
      "metadata": {
        "id": "B2RRjQMFWViH"
      },
      "source": [
        "# Fox: write the code here.\n",
        "# power, accuracy, defense, hitpoints, stealth\n",
        "# you have 25 points to spend in total."
      ],
      "execution_count": null,
      "outputs": []
    },
    {
      "cell_type": "code",
      "metadata": {
        "id": "GgKNww2ParVc"
      },
      "source": [
        "# power: what you might expect (max 20)\n",
        "# accuracy: chance to land a critical hit and deal double damage (max 10, each point increases chance by 4%)\n",
        "# defense: chance to return your enemy's damage back upon them when you get attacked (max 10, each point increases chance by 2%)\n",
        "# hitpoints: what you might expect, again (max 20)\n",
        "# stealth: chance to skip your opponent's turn (max 10, each point increases chance by 3%)\n",
        "\n",
        "# after a successful attack (without being reflected with defense or missing), player will get an extra point on a random stat of theirs."
      ],
      "execution_count": null,
      "outputs": []
    },
    {
      "cell_type": "code",
      "metadata": {
        "id": "G7okKdAiarZG"
      },
      "source": [
        "# player turn begins\n",
        "# player only gets to attack if their opponent's stealth fails\n",
        "# if the damage is greater than zero, determine if it is a critical hit or not. if it is, double the damage.\n",
        "# if the opponent's reflect attempt works, damage will go to the attacking player. otherwise, it will go to the other player.\n",
        "# player gets 1 extra point on a random stat of theirs.\n",
        "# if the damage is less than zero, nothing happens."
      ],
      "execution_count": null,
      "outputs": []
    },
    {
      "cell_type": "markdown",
      "metadata": {
        "id": "2n0eR_9car8z"
      },
      "source": [
        "## 6 - Chapter 3 - Functions\n",
        "\n",
        "The goals are organizing the code in chaper 2 above into functions. \n",
        "- Use one code cells below to create one function at a time.\n",
        "- You can use the Python book mentioned above or use the \"W3School\" online resource, https://www.w3schools.com/python/python_functions.asp\n",
        "\n",
        "The functions list is as follow:\n",
        "\n",
        "1. **printInstruction()**\n",
        "  - No passing parameters\n",
        "  - No value return\n",
        "  - (I start the code for you)\n",
        "\n",
        "2. **createPlayer(playerName)**\n",
        "  - playerName is a \"string\"\n",
        "  - Return an Array with defaults values.\n",
        "    - [\"name\",5,5,5,5,5] (power, accuracy, defense, hitpoints, steath)\n",
        "  - ( I start the code for you)\n",
        "\n",
        "3. **askInput(questionText, maxValue)**\n",
        "  - questionText is a \"string\"\n",
        "  - maxValue is the stat maximum value\n",
        "  - Return an integer \n",
        "  - ( I start the code for you.)\n",
        "\n",
        "4. **setupPlayer(playerArray)**\n",
        "  - playerArray is the player array\n",
        "  - No return\n",
        "  - (Use the createPlayer() and askInput() method above)\n",
        "  - (I start the code for you)\n",
        "\n",
        "4. **setupTiger(tname, isRandom)**\n",
        "  - tname is the tiger name.\n",
        "  - if isRandom is True then randomize the stat else set to default.\n",
        "  - Return the tiger-array\n",
        "  - (Use the createPlayer() and set the stat value)\n",
        "  - (I start the code for you)\n",
        "\n",
        "5. **getStrike(attackPlayer, defensePlayer)**\n",
        "  - attackPlayer is the player-array the is attacking.\n",
        "  - defensePlayer is the player-array that is being attack. \n",
        "  - Return the damage point\n",
        "  - (I start the code for you)\n",
        "\n",
        "5. **getCriticalHit(attackPlayer, defensePlayer, damagePoint)**\n",
        "  - attackPlayer is the player-array the is attacking.\n",
        "  - defensePlayer is the player-array that is being attack. \n",
        "  - damagePoint is the damage point from getStrike() function\n",
        "  - Return the critical hit value\n",
        "  \n",
        "5. **getReflect(attackPlayer, defensePlayer, damagePoint)**\n",
        "  - attackPlayer is the player-array the is attacking.\n",
        "  - defensePlayer is the player-array that is being attack. \n",
        "  - damagePoint is the damage point from getStrike() function\n",
        "  - Return the reflect value\n",
        "\n",
        "5. **getPowerUp(attackPlayer, defensePlayer, damagePoint)**\n",
        "  - attackPlayer is the player-array the is attacking.\n",
        "  - defensePlayer is the player-array that is being attack. \n",
        "  - damagePoint is the damage point from getStrike() function\n",
        "  - Return the critical hit value\n",
        "\n",
        "5. **isStealth(attackPlayer)**\n",
        "  - attackPlayer is the player-array the is attacking.\n",
        "  - Return \"True\" is stealth applied else return \"False\"\n",
        "\n",
        "5. **playGame()**\n",
        "  - No passing parameters\n",
        "  - No return\n",
        "  - (Use all the above functions)"
      ]
    },
    {
      "cell_type": "code",
      "metadata": {
        "id": "X6kImacmbJ3A"
      },
      "source": [
        "# 1. Print instruction\n",
        "def printInstruction():\n",
        "  print(\"Each player has 25 points in total.\")\n",
        "  print(\"Fox: add more here...\")\n",
        "  return"
      ],
      "execution_count": 1,
      "outputs": []
    },
    {
      "cell_type": "code",
      "metadata": {
        "colab": {
          "base_uri": "https://localhost:8080/"
        },
        "id": "dltE5vpJf3xT",
        "outputId": "64978178-63d8-4ea9-a44c-c11087a30123"
      },
      "source": [
        "# test it\n",
        "printInstruction()"
      ],
      "execution_count": 2,
      "outputs": [
        {
          "output_type": "stream",
          "text": [
            "Each player has 25 points in total.\n",
            "Fox: add more here...\n"
          ],
          "name": "stdout"
        }
      ]
    },
    {
      "cell_type": "code",
      "metadata": {
        "id": "gj7XnJr-aPat"
      },
      "source": [
        "# 2. createPlayer(playerName)\n",
        "def createPlayer(playerName):\n",
        "  p = [playerName, 5, 5, 5, 5, 5]\n",
        "  return p"
      ],
      "execution_count": 3,
      "outputs": []
    },
    {
      "cell_type": "code",
      "metadata": {
        "id": "sshVIK0WaPdz"
      },
      "source": [
        "# define player\n",
        "fox = createPlayer(\"Fox\")\n",
        "hamish = createPlayer(\"Hamish\")\n",
        "duc = createPlayer(\"Duc\")\n",
        "joker = createPlayer(\"Joker\")"
      ],
      "execution_count": 4,
      "outputs": []
    },
    {
      "cell_type": "code",
      "metadata": {
        "colab": {
          "base_uri": "https://localhost:8080/"
        },
        "id": "c77n9mkhaPg6",
        "outputId": "809bbba5-9194-41a0-dec2-4117c918d1f8"
      },
      "source": [
        "# verify them\n",
        "print(fox, hamish, duc)"
      ],
      "execution_count": 5,
      "outputs": [
        {
          "output_type": "stream",
          "text": [
            "['Fox', 5, 5, 5, 5, 5] ['Hamish', 5, 5, 5, 5, 5] ['Duc', 5, 5, 5, 5, 5]\n"
          ],
          "name": "stdout"
        }
      ]
    },
    {
      "cell_type": "code",
      "metadata": {
        "id": "iIi0ACj6aPjw"
      },
      "source": [
        "# 3. askInput(questionText, maxValue)\n",
        "#\n",
        "def askInput(questionText, maxValue):\n",
        "  val = input(questionText + \": Max value is \" + str(maxValue) + \": --> \")\n",
        "  val = int(val)\n",
        "  if (val > maxValue):\n",
        "    print(\"**Sorry, you can't read. So I have to set it to zero.\")\n",
        "    val = 0\n",
        "  return val"
      ],
      "execution_count": 12,
      "outputs": []
    },
    {
      "cell_type": "code",
      "metadata": {
        "colab": {
          "base_uri": "https://localhost:8080/"
        },
        "id": "5Cv8rJJHaPmp",
        "outputId": "ed8cb89f-bcc3-4671-ec35-50a0c0a5c2d0"
      },
      "source": [
        "# test it\n",
        "askInput(\"What is your power level?\", 10)"
      ],
      "execution_count": 13,
      "outputs": [
        {
          "output_type": "stream",
          "text": [
            "What is your power level?: Max value is 10: --> 20\n",
            "**Sorry, you can't read. So I have to set it to zero.\n"
          ],
          "name": "stdout"
        },
        {
          "output_type": "execute_result",
          "data": {
            "text/plain": [
              "0"
            ]
          },
          "metadata": {
            "tags": []
          },
          "execution_count": 13
        }
      ]
    },
    {
      "cell_type": "code",
      "metadata": {
        "id": "1SJhWBnOaPpk"
      },
      "source": [
        "# 4. setupPlayer(playerArray)\n",
        "#\n",
        "# Fox: I start the coding and did NOT finish, so you have to finish it.\n",
        "#\n",
        "def setupPlayer(playerArray):\n",
        "  playerArray[1] = askInput(\"What is your power level?\", 10)\n",
        "  playerArray[2] = askInput(\"What is your accuracy level?\", 10)\n",
        "  #\n",
        "  # Fox: finish it\n",
        "  #\n",
        "  return"
      ],
      "execution_count": 14,
      "outputs": []
    },
    {
      "cell_type": "code",
      "metadata": {
        "colab": {
          "base_uri": "https://localhost:8080/"
        },
        "id": "xZPBRXGAaPsn",
        "outputId": "f9b2004b-5715-4903-cf18-856ef78c4747"
      },
      "source": [
        "# set up Fox\n",
        "setupPlayer(fox)"
      ],
      "execution_count": 16,
      "outputs": [
        {
          "output_type": "stream",
          "text": [
            "What is your power level?: Max value is 10: --> 8\n",
            "What is your accuracy level?: Max value is 10: --> 7\n"
          ],
          "name": "stdout"
        }
      ]
    },
    {
      "cell_type": "code",
      "metadata": {
        "colab": {
          "base_uri": "https://localhost:8080/"
        },
        "id": "zCBI8OdBaPvm",
        "outputId": "154f7ff9-8284-4e08-8f5a-87b8301bba06"
      },
      "source": [
        "# set up Duc\n",
        "setupPlayer(duc)"
      ],
      "execution_count": 18,
      "outputs": [
        {
          "output_type": "stream",
          "text": [
            "What is your power level?: Max value is 10: --> 10\n",
            "What is your accuracy level?: Max value is 10: --> 4\n"
          ],
          "name": "stdout"
        }
      ]
    },
    {
      "cell_type": "code",
      "metadata": {
        "colab": {
          "base_uri": "https://localhost:8080/"
        },
        "id": "ZBNelJ78aPyn",
        "outputId": "3976e711-4d15-46e3-ee42-07d498e10cdb"
      },
      "source": [
        "# set up Hamish\n",
        "setupPlayer(hamish)"
      ],
      "execution_count": 19,
      "outputs": [
        {
          "output_type": "stream",
          "text": [
            "What is your power level?: Max value is 10: --> 9\n",
            "What is your accuracy level?: Max value is 10: --> 2\n"
          ],
          "name": "stdout"
        }
      ]
    },
    {
      "cell_type": "code",
      "metadata": {
        "colab": {
          "base_uri": "https://localhost:8080/"
        },
        "id": "61kwgx7RaQjk",
        "outputId": "9d81474b-3ed4-4399-b16d-b9390392708a"
      },
      "source": [
        "# set up Joker\n",
        "setupPlayer(joker)"
      ],
      "execution_count": 20,
      "outputs": [
        {
          "output_type": "stream",
          "text": [
            "What is your power level?: Max value is 10: --> 6\n",
            "What is your accuracy level?: Max value is 10: --> 1\n"
          ],
          "name": "stdout"
        }
      ]
    },
    {
      "cell_type": "code",
      "metadata": {
        "colab": {
          "base_uri": "https://localhost:8080/"
        },
        "id": "OiFJtKe2aQm1",
        "outputId": "70247444-155e-46a3-a0ba-c9fa0e97602d"
      },
      "source": [
        "# verify them\n",
        "print(fox,duc,hamish,joker)"
      ],
      "execution_count": 21,
      "outputs": [
        {
          "output_type": "stream",
          "text": [
            "['Fox', 8, 7, 5, 5, 5] ['Duc', 10, 4, 5, 5, 5] ['Hamish', 9, 2, 5, 5, 5] ['Joker', 6, 1, 5, 5, 5]\n"
          ],
          "name": "stdout"
        }
      ]
    },
    {
      "cell_type": "markdown",
      "metadata": {
        "id": "GQRR7W7Imbmm"
      },
      "source": [
        "- **Fox: Hints: write a function to get \"allPlayers\" variable, you might need it in the playGame() function.**"
      ]
    },
    {
      "cell_type": "code",
      "metadata": {
        "id": "U3P9G3vbaQp1"
      },
      "source": [
        "# 5. setupTiger(isRandom)\n",
        "#\n",
        "# Fox: Update this method to your liking...\n",
        "#\n",
        "import numpy\n",
        "def setupTiger(tname, isRandom):\n",
        "  tiger = createPlayer(tname)\n",
        "  if (isRandom == False):\n",
        "    tiger[1] = 10\n",
        "    tiger[2] = 3\n",
        "    tiger[3] = 7\n",
        "    tiger[4] = 10\n",
        "    tiger[5] = 5\n",
        "  else:\n",
        "    # random\n",
        "    for i in range(1, 5):\n",
        "      r = numpy.random.randint(3, 15)\n",
        "      tiger[i] = r \n",
        "  return tiger\n"
      ],
      "execution_count": 22,
      "outputs": []
    },
    {
      "cell_type": "code",
      "metadata": {
        "id": "ry-u5vTQnjPI"
      },
      "source": [
        "# set up a few tigers\n",
        "tonyTheTiger = setupTiger(\"TonyTheTiger\", isRandom=False)\n",
        "crazyTiger = setupTiger(\"CrazyTiger\", isRandom=True)\n",
        "wildTiger = setupTiger(\"WildTiger\", isRandom=True)"
      ],
      "execution_count": 23,
      "outputs": []
    },
    {
      "cell_type": "code",
      "metadata": {
        "colab": {
          "base_uri": "https://localhost:8080/"
        },
        "id": "-LJ0t2ZEnjR8",
        "outputId": "d6de77a2-035e-48ed-b6a0-52eb8248ad22"
      },
      "source": [
        "# verify it\n",
        "print(tonyTheTiger, crazyTiger, wildTiger)"
      ],
      "execution_count": 24,
      "outputs": [
        {
          "output_type": "stream",
          "text": [
            "['TonyTheTiger', 10, 3, 7, 10, 5] ['CrazyTiger', 13, 7, 3, 4, 5] ['WildTiger', 6, 10, 3, 14, 5]\n"
          ],
          "name": "stdout"
        }
      ]
    },
    {
      "cell_type": "code",
      "metadata": {
        "id": "q9YtUI9SnjVa"
      },
      "source": [
        "# 6. getStrike(attackPlayer, defensePlayer)\n",
        "#\n",
        "# Fox: I left for you to finish the function\n",
        "#\n",
        "def getStrike(attackPlayer, defensePlayer):\n",
        "  magicPt = 11\n",
        "  strike = numpy.random.randint(1, 10)\n",
        "  dm = strike + attackPlayer[1] - magicPt\n",
        "  # \n",
        "  # fox: I add in the defense-player \"defense\" value, but you can the logic here.\n",
        "  #\n",
        "  b = round(defensePlayer[2] * numpy.random.rand())\n",
        "  dm = dm - b \n",
        "  #\n",
        "  if (dm < 0):\n",
        "    dm = 0\n",
        "  #\n",
        "  return dm"
      ],
      "execution_count": 57,
      "outputs": []
    },
    {
      "cell_type": "code",
      "metadata": {
        "colab": {
          "base_uri": "https://localhost:8080/"
        },
        "id": "g7iFQ9CLnjYD",
        "outputId": "76e06f3b-001c-4f94-e255-5efd96b6d453"
      },
      "source": [
        "# test it\n",
        "damagePt = getStrike(fox,joker)\n",
        "print(fox[0], \" strikes \", joker[0], \" and the damage point is \", damagePt)"
      ],
      "execution_count": 63,
      "outputs": [
        {
          "output_type": "stream",
          "text": [
            "Fox  strikes  Joker  and the damage point is  1\n"
          ],
          "name": "stdout"
        }
      ]
    },
    {
      "cell_type": "code",
      "metadata": {
        "colab": {
          "base_uri": "https://localhost:8080/"
        },
        "id": "qrZif9jgnjao",
        "outputId": "1ea403d3-31a0-446d-b32a-3bd5d5fd687f"
      },
      "source": [
        "# test it\n",
        "damagePt = getStrike(duc,crazyTiger)\n",
        "print(duc[0], \" strikes \", crazyTiger[0], \" and the damage point is \", damagePt)"
      ],
      "execution_count": 64,
      "outputs": [
        {
          "output_type": "stream",
          "text": [
            "Duc  strikes  CrazyTiger  and the damage point is  6\n"
          ],
          "name": "stdout"
        }
      ]
    },
    {
      "cell_type": "code",
      "metadata": {
        "colab": {
          "base_uri": "https://localhost:8080/"
        },
        "id": "z278Vxz1njd1",
        "outputId": "c1586c7f-cded-4f22-c90f-8e0e14e7de5e"
      },
      "source": [
        "# test it\n",
        "damagePt = getStrike(wildTiger,hamish)\n",
        "print(wildTiger[0], \" strikes \", hamish[0], \" and the damage point is \", damagePt)"
      ],
      "execution_count": 65,
      "outputs": [
        {
          "output_type": "stream",
          "text": [
            "WildTiger  strikes  Hamish  and the damage point is  2\n"
          ],
          "name": "stdout"
        }
      ]
    },
    {
      "cell_type": "code",
      "metadata": {
        "id": "irGGuxzYnjgm"
      },
      "source": [
        "# 7. getCriticalHit(attackPlayer, defensePlayer, damagePoint)\n",
        "#\n",
        "# Fox: code it"
      ],
      "execution_count": null,
      "outputs": []
    },
    {
      "cell_type": "code",
      "metadata": {
        "id": "Drq-Vkxyv0wF"
      },
      "source": [
        ""
      ],
      "execution_count": null,
      "outputs": []
    },
    {
      "cell_type": "code",
      "metadata": {
        "id": "feXDh8qxv0zc"
      },
      "source": [
        ""
      ],
      "execution_count": null,
      "outputs": []
    },
    {
      "cell_type": "code",
      "metadata": {
        "id": "mCtapyPknjjv"
      },
      "source": [
        "# 8. getReflect(attackPlayer, defensePlayer, damagePoint)\n",
        "#\n",
        "# Fox: code it"
      ],
      "execution_count": null,
      "outputs": []
    },
    {
      "cell_type": "code",
      "metadata": {
        "id": "lJfWlYbmnjmt"
      },
      "source": [
        ""
      ],
      "execution_count": null,
      "outputs": []
    },
    {
      "cell_type": "code",
      "metadata": {
        "id": "bmEdIDBpwUM4"
      },
      "source": [
        ""
      ],
      "execution_count": null,
      "outputs": []
    },
    {
      "cell_type": "code",
      "metadata": {
        "id": "ubCEFbnLnjpy"
      },
      "source": [
        "# 9. getPowerUp(attackPlayer, defensePlayer, damagePoint)\n",
        "#\n",
        "# Fox: code it"
      ],
      "execution_count": null,
      "outputs": []
    },
    {
      "cell_type": "code",
      "metadata": {
        "id": "UABAiwIPnjso"
      },
      "source": [
        ""
      ],
      "execution_count": null,
      "outputs": []
    },
    {
      "cell_type": "code",
      "metadata": {
        "id": "DyLj6uVBnjwD"
      },
      "source": [
        ""
      ],
      "execution_count": null,
      "outputs": []
    },
    {
      "cell_type": "code",
      "metadata": {
        "id": "LuEBFY3vbJ6J"
      },
      "source": [
        "# 10. isStealth(attackPlayer)\n",
        "#\n",
        "# Fox: code it"
      ],
      "execution_count": null,
      "outputs": []
    },
    {
      "cell_type": "code",
      "metadata": {
        "id": "SVeojtyFwRCB"
      },
      "source": [
        ""
      ],
      "execution_count": null,
      "outputs": []
    },
    {
      "cell_type": "code",
      "metadata": {
        "id": "kiFzsVL6wRFb"
      },
      "source": [
        ""
      ],
      "execution_count": null,
      "outputs": []
    },
    {
      "cell_type": "code",
      "metadata": {
        "id": "z_mSlHLzwRIv"
      },
      "source": [
        "# 11. playGame()\n",
        "#\n",
        "# Fox: code it"
      ],
      "execution_count": null,
      "outputs": []
    },
    {
      "cell_type": "code",
      "metadata": {
        "id": "K_pvACPLwRM8"
      },
      "source": [
        ""
      ],
      "execution_count": null,
      "outputs": []
    },
    {
      "cell_type": "code",
      "metadata": {
        "id": "iiypHYxDwRZ9"
      },
      "source": [
        ""
      ],
      "execution_count": null,
      "outputs": []
    },
    {
      "cell_type": "code",
      "metadata": {
        "id": "Ph5FjUrYbJ9k"
      },
      "source": [
        ""
      ],
      "execution_count": null,
      "outputs": []
    },
    {
      "cell_type": "markdown",
      "metadata": {
        "id": "zZsbEABuasA6"
      },
      "source": [
        "## 7 - Chapter 4 - Objects\n",
        "\n",
        "The goals are as follow.\n",
        "\n",
        "1. more to come..."
      ]
    },
    {
      "cell_type": "code",
      "metadata": {
        "id": "rChigePDbXxm"
      },
      "source": [
        ""
      ],
      "execution_count": null,
      "outputs": []
    },
    {
      "cell_type": "code",
      "metadata": {
        "id": "bnkuSfMAbX1C"
      },
      "source": [
        ""
      ],
      "execution_count": null,
      "outputs": []
    },
    {
      "cell_type": "code",
      "metadata": {
        "id": "s07e6zjCbX4u"
      },
      "source": [
        ""
      ],
      "execution_count": null,
      "outputs": []
    },
    {
      "cell_type": "markdown",
      "metadata": {
        "id": "Ifn3EqfwbY8k"
      },
      "source": [
        "## 8 - Chapter 3 - Offensive Moves\n",
        "\n",
        "The goals are as follow.\n",
        "\n",
        "1. more to come..."
      ]
    },
    {
      "cell_type": "code",
      "metadata": {
        "id": "tD6X3AUYbnjQ"
      },
      "source": [
        ""
      ],
      "execution_count": null,
      "outputs": []
    },
    {
      "cell_type": "code",
      "metadata": {
        "id": "6Ml0ClHqbnmb"
      },
      "source": [
        ""
      ],
      "execution_count": null,
      "outputs": []
    },
    {
      "cell_type": "code",
      "metadata": {
        "id": "dAw3I584bnpv"
      },
      "source": [
        ""
      ],
      "execution_count": null,
      "outputs": []
    },
    {
      "cell_type": "markdown",
      "metadata": {
        "id": "7z6xkgb-boC5"
      },
      "source": [
        "## 9 - Chapter 5 - Defensive Moves\n",
        "\n",
        "The goals are as follow.\n",
        "\n",
        "1. more to come..."
      ]
    },
    {
      "cell_type": "code",
      "metadata": {
        "id": "nVbwOGwRb76n"
      },
      "source": [
        ""
      ],
      "execution_count": null,
      "outputs": []
    },
    {
      "cell_type": "code",
      "metadata": {
        "id": "GE4YANKab79z"
      },
      "source": [
        ""
      ],
      "execution_count": null,
      "outputs": []
    },
    {
      "cell_type": "code",
      "metadata": {
        "id": "JZRq-8IGb8BF"
      },
      "source": [
        ""
      ],
      "execution_count": null,
      "outputs": []
    },
    {
      "cell_type": "markdown",
      "metadata": {
        "id": "MsdecXCwcOlH"
      },
      "source": [
        "## 10 - Chapter 6 - Utility Moves\n",
        "\n",
        "The goals are as follow.\n",
        "\n",
        "1. more to come..."
      ]
    },
    {
      "cell_type": "code",
      "metadata": {
        "id": "VcZgd-fxcjhe"
      },
      "source": [
        ""
      ],
      "execution_count": null,
      "outputs": []
    },
    {
      "cell_type": "code",
      "metadata": {
        "id": "LKXuhKmccjlr"
      },
      "source": [
        ""
      ],
      "execution_count": null,
      "outputs": []
    },
    {
      "cell_type": "code",
      "metadata": {
        "id": "vVR0MlIpcjpp"
      },
      "source": [
        ""
      ],
      "execution_count": null,
      "outputs": []
    },
    {
      "cell_type": "markdown",
      "metadata": {
        "id": "9y1dbU40cj_z"
      },
      "source": [
        "## 11 - Chapter 7 - Put It All Together\n",
        "\n",
        "The goals are as follow.\n",
        "\n",
        "1. more to come..."
      ]
    }
  ]
}